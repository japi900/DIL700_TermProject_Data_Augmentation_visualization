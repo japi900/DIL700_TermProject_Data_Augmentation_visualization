{
  "nbformat": 4,
  "nbformat_minor": 0,
  "metadata": {
    "colab": {
      "provenance": [],
      "authorship_tag": "ABX9TyMpswoCtJQJZqCzsrClUoba"
    },
    "kernelspec": {
      "name": "python3",
      "display_name": "Python 3"
    },
    "language_info": {
      "name": "python"
    },
    "accelerator": "TPU",
    "gpuClass": "standard"
  },
  "cells": [
    {
      "cell_type": "code",
      "source": [
        "!pip --no-cache-dir install tensorflow"
      ],
      "metadata": {
        "colab": {
          "base_uri": "https://localhost:8080/"
        },
        "id": "zDSnkBABx9HW",
        "outputId": "ba40116b-e19c-40cd-afe3-efa53c9ed0fd"
      },
      "execution_count": null,
      "outputs": [
        {
          "output_type": "stream",
          "name": "stdout",
          "text": [
            "Looking in indexes: https://pypi.org/simple, https://us-python.pkg.dev/colab-wheels/public/simple/\n",
            "Requirement already satisfied: tensorflow in /usr/local/lib/python3.9/dist-packages (2.11.0)\n",
            "Requirement already satisfied: h5py>=2.9.0 in /usr/local/lib/python3.9/dist-packages (from tensorflow) (3.8.0)\n",
            "Requirement already satisfied: tensorflow-estimator<2.12,>=2.11.0 in /usr/local/lib/python3.9/dist-packages (from tensorflow) (2.11.0)\n",
            "Requirement already satisfied: six>=1.12.0 in /usr/local/lib/python3.9/dist-packages (from tensorflow) (1.16.0)\n",
            "Requirement already satisfied: google-pasta>=0.1.1 in /usr/local/lib/python3.9/dist-packages (from tensorflow) (0.2.0)\n",
            "Requirement already satisfied: numpy>=1.20 in /usr/local/lib/python3.9/dist-packages (from tensorflow) (1.22.4)\n",
            "Requirement already satisfied: opt-einsum>=2.3.2 in /usr/local/lib/python3.9/dist-packages (from tensorflow) (3.3.0)\n",
            "Requirement already satisfied: termcolor>=1.1.0 in /usr/local/lib/python3.9/dist-packages (from tensorflow) (2.2.0)\n",
            "Requirement already satisfied: wrapt>=1.11.0 in /usr/local/lib/python3.9/dist-packages (from tensorflow) (1.15.0)\n",
            "Requirement already satisfied: keras<2.12,>=2.11.0 in /usr/local/lib/python3.9/dist-packages (from tensorflow) (2.11.0)\n",
            "Requirement already satisfied: protobuf<3.20,>=3.9.2 in /usr/local/lib/python3.9/dist-packages (from tensorflow) (3.19.6)\n",
            "Requirement already satisfied: libclang>=13.0.0 in /usr/local/lib/python3.9/dist-packages (from tensorflow) (15.0.6.1)\n",
            "Requirement already satisfied: tensorboard<2.12,>=2.11 in /usr/local/lib/python3.9/dist-packages (from tensorflow) (2.11.2)\n",
            "Requirement already satisfied: packaging in /usr/local/lib/python3.9/dist-packages (from tensorflow) (23.0)\n",
            "Requirement already satisfied: gast<=0.4.0,>=0.2.1 in /usr/local/lib/python3.9/dist-packages (from tensorflow) (0.4.0)\n",
            "Requirement already satisfied: typing-extensions>=3.6.6 in /usr/local/lib/python3.9/dist-packages (from tensorflow) (4.5.0)\n",
            "Requirement already satisfied: astunparse>=1.6.0 in /usr/local/lib/python3.9/dist-packages (from tensorflow) (1.6.3)\n",
            "Requirement already satisfied: absl-py>=1.0.0 in /usr/local/lib/python3.9/dist-packages (from tensorflow) (1.4.0)\n",
            "Requirement already satisfied: grpcio<2.0,>=1.24.3 in /usr/local/lib/python3.9/dist-packages (from tensorflow) (1.51.3)\n",
            "Requirement already satisfied: flatbuffers>=2.0 in /usr/local/lib/python3.9/dist-packages (from tensorflow) (23.3.3)\n",
            "Requirement already satisfied: tensorflow-io-gcs-filesystem>=0.23.1 in /usr/local/lib/python3.9/dist-packages (from tensorflow) (0.31.0)\n",
            "Requirement already satisfied: setuptools in /usr/local/lib/python3.9/dist-packages (from tensorflow) (67.6.0)\n",
            "Requirement already satisfied: wheel<1.0,>=0.23.0 in /usr/local/lib/python3.9/dist-packages (from astunparse>=1.6.0->tensorflow) (0.40.0)\n",
            "Requirement already satisfied: werkzeug>=1.0.1 in /usr/local/lib/python3.9/dist-packages (from tensorboard<2.12,>=2.11->tensorflow) (2.2.3)\n",
            "Requirement already satisfied: markdown>=2.6.8 in /usr/local/lib/python3.9/dist-packages (from tensorboard<2.12,>=2.11->tensorflow) (3.4.3)\n",
            "Requirement already satisfied: tensorboard-data-server<0.7.0,>=0.6.0 in /usr/local/lib/python3.9/dist-packages (from tensorboard<2.12,>=2.11->tensorflow) (0.6.1)\n",
            "Requirement already satisfied: tensorboard-plugin-wit>=1.6.0 in /usr/local/lib/python3.9/dist-packages (from tensorboard<2.12,>=2.11->tensorflow) (1.8.1)\n",
            "Requirement already satisfied: google-auth-oauthlib<0.5,>=0.4.1 in /usr/local/lib/python3.9/dist-packages (from tensorboard<2.12,>=2.11->tensorflow) (0.4.6)\n",
            "Requirement already satisfied: google-auth<3,>=1.6.3 in /usr/local/lib/python3.9/dist-packages (from tensorboard<2.12,>=2.11->tensorflow) (2.16.2)\n",
            "Requirement already satisfied: requests<3,>=2.21.0 in /usr/local/lib/python3.9/dist-packages (from tensorboard<2.12,>=2.11->tensorflow) (2.27.1)\n",
            "Requirement already satisfied: rsa<5,>=3.1.4 in /usr/local/lib/python3.9/dist-packages (from google-auth<3,>=1.6.3->tensorboard<2.12,>=2.11->tensorflow) (4.9)\n",
            "Requirement already satisfied: cachetools<6.0,>=2.0.0 in /usr/local/lib/python3.9/dist-packages (from google-auth<3,>=1.6.3->tensorboard<2.12,>=2.11->tensorflow) (5.3.0)\n",
            "Requirement already satisfied: pyasn1-modules>=0.2.1 in /usr/local/lib/python3.9/dist-packages (from google-auth<3,>=1.6.3->tensorboard<2.12,>=2.11->tensorflow) (0.2.8)\n",
            "Requirement already satisfied: requests-oauthlib>=0.7.0 in /usr/local/lib/python3.9/dist-packages (from google-auth-oauthlib<0.5,>=0.4.1->tensorboard<2.12,>=2.11->tensorflow) (1.3.1)\n",
            "Requirement already satisfied: importlib-metadata>=4.4 in /usr/local/lib/python3.9/dist-packages (from markdown>=2.6.8->tensorboard<2.12,>=2.11->tensorflow) (6.1.0)\n",
            "Requirement already satisfied: charset-normalizer~=2.0.0 in /usr/local/lib/python3.9/dist-packages (from requests<3,>=2.21.0->tensorboard<2.12,>=2.11->tensorflow) (2.0.12)\n",
            "Requirement already satisfied: urllib3<1.27,>=1.21.1 in /usr/local/lib/python3.9/dist-packages (from requests<3,>=2.21.0->tensorboard<2.12,>=2.11->tensorflow) (1.26.15)\n",
            "Requirement already satisfied: idna<4,>=2.5 in /usr/local/lib/python3.9/dist-packages (from requests<3,>=2.21.0->tensorboard<2.12,>=2.11->tensorflow) (3.4)\n",
            "Requirement already satisfied: certifi>=2017.4.17 in /usr/local/lib/python3.9/dist-packages (from requests<3,>=2.21.0->tensorboard<2.12,>=2.11->tensorflow) (2022.12.7)\n",
            "Requirement already satisfied: MarkupSafe>=2.1.1 in /usr/local/lib/python3.9/dist-packages (from werkzeug>=1.0.1->tensorboard<2.12,>=2.11->tensorflow) (2.1.2)\n",
            "Requirement already satisfied: zipp>=0.5 in /usr/local/lib/python3.9/dist-packages (from importlib-metadata>=4.4->markdown>=2.6.8->tensorboard<2.12,>=2.11->tensorflow) (3.15.0)\n",
            "Requirement already satisfied: pyasn1<0.5.0,>=0.4.6 in /usr/local/lib/python3.9/dist-packages (from pyasn1-modules>=0.2.1->google-auth<3,>=1.6.3->tensorboard<2.12,>=2.11->tensorflow) (0.4.8)\n",
            "Requirement already satisfied: oauthlib>=3.0.0 in /usr/local/lib/python3.9/dist-packages (from requests-oauthlib>=0.7.0->google-auth-oauthlib<0.5,>=0.4.1->tensorboard<2.12,>=2.11->tensorflow) (3.2.2)\n"
          ]
        }
      ]
    },
    {
      "cell_type": "code",
      "execution_count": null,
      "metadata": {
        "id": "AQo4m-GHGNud",
        "colab": {
          "base_uri": "https://localhost:8080/"
        },
        "outputId": "c7e356f8-096f-4b42-915f-61cdff609ed3"
      },
      "outputs": [
        {
          "output_type": "stream",
          "name": "stdout",
          "text": [
            "Mounted at /content/drive\n",
            "['/test', '/train', '/val']\n"
          ]
        }
      ],
      "source": [
        "#Download the MARIDA dataset\n",
        "\n",
        "!wget -q --show-progress --load-cookies /tmp/cookies.txt \"https://docs.google.com/uc?export=download&confirm=$(wget --quiet --save-cookies /tmp/cookies.txt --keep-session-cookies --no-check-certificate 'https://docs.google.com/uc?export=download&id=1e27X7344PjW366tA6EtGWasJYZvf4MQc' -O- | sed -rn 's/.*confirm=([0-9A-Za-z_]+).*/\\1\\n/p')&id=iD\" -O MARIDA.zip && rm -rf /tmp/cookies.txt\n",
        "from google.colab import drive\n",
        "drive.mount('/content/drive')\n",
        "# Set folder path\n",
        "\n",
        "folder_path = \"/content/drive/MyDrive/Colab Notebooks/DL project/data\"\n",
        "\n",
        "# List folder contents\n",
        "import os\n",
        "os.listdir(folder_path)\n",
        "\n",
        "!cd \"/content/drive/MyDrive/Colab Notebooks/DL project/data\"\n",
        "import pandas as pd\n",
        "#Spectral signature extraction\n",
        "hdf = pd.HDFStore(\"/content/drive/MyDrive/Colab Notebooks/DL project/data/dataset.h5\", mode = \"r\")\n",
        "#Slitting into train, val and test datasets\n",
        "df_train = hdf.select('train')\n",
        "df_val = hdf.select('val')\n",
        "df_test = hdf.select('test')\n",
        "print(hdf.keys())\n",
        "hdf.close()"
      ]
    },
    {
      "cell_type": "code",
      "source": [
        "#Import the libraries\n",
        "import numpy as np\n",
        "from PIL import Image\n",
        "import glob\n",
        "import pandas as pd\n",
        "from keras.utils import to_categorical\n",
        "import os\n",
        "import imageio\n",
        "import seaborn as sns\n",
        "import pandas as pd\n",
        "from sklearn.decomposition import PCA\n",
        "import matplotlib.pyplot as plt\n",
        "import tensorflow as tf \n",
        "tf.config.run_functions_eagerly(True)\n",
        "from tensorflow import keras\n",
        "from tensorflow.keras.layers import Input, Conv2D, MaxPooling1D, Activation, ReLU,Convolution1D,Convolution1DTranspose,Lambda,Conv1D,Reshape,Dropout\n",
        "from tensorflow.keras.layers import BatchNormalization, Conv1DTranspose, Concatenate\n",
        "from tensorflow.keras.models import Model, Sequential\n",
        "from tensorflow import convert_to_tensor"
      ],
      "metadata": {
        "id": "WxxtBMUbGaj8"
      },
      "execution_count": null,
      "outputs": []
    },
    {
      "cell_type": "code",
      "source": [
        "#Converting classes names into int\n",
        "\n",
        "# Map class names to class numbers\n",
        "class_dict = {\n",
        "    \"Wakes\": 0,\n",
        "    \"Marine Water\": 1,\n",
        "    \"Ship\": 2,\n",
        "    \"Marine Debris\": 3,\n",
        "    \"Shallow Water\": 4,\n",
        "    \"Natural Organic Material\": 5,\n",
        "    \"Turbid Water\": 6,\n",
        "    \"Sparse Sargassum\": 7,\n",
        "    \"Foam\": 8,\n",
        "    \"Mixed Water\": 9,\n",
        "    \"Sediment-Laden Water\": 10,\n",
        "    \"Clouds\": 11,\n",
        "    \"Cloud Shadows\": 12,\n",
        "    \"Dense Sargassum\": 13,\n",
        "    \"Waves\": 14\n",
        "}\n",
        "df_train_classes=df_train.iloc[:,12] #exctracting classes names\n",
        "\n"
      ],
      "metadata": {
        "id": "cZw03dg7GhDY"
      },
      "execution_count": null,
      "outputs": []
    },
    {
      "cell_type": "code",
      "source": [
        "#Converting classes names into int\n",
        "#df_train\n",
        "df_train=df_train.iloc[:,0:11] #extracting pixels information\n",
        "\n",
        "# Add a column with the corresponding class numbers to df_train\n",
        "df_train[\"Class_Num\"] = df_train_classes.map(class_dict)\n",
        "# Print the resulting dataframe\n",
        "print(df_train)"
      ],
      "metadata": {
        "id": "-Kq5LWKaGlEf",
        "colab": {
          "base_uri": "https://localhost:8080/"
        },
        "outputId": "9eaa5336-1af0-49c3-c7e9-fb0f0ac05aad"
      },
      "execution_count": null,
      "outputs": [
        {
          "output_type": "stream",
          "name": "stdout",
          "text": [
            "           nm440     nm490     nm560     nm665     nm705     nm740     nm783  \\\n",
            "0       0.102549  0.099589  0.083065  0.060977  0.054536  0.056019  0.058678   \n",
            "1       0.102549  0.102169  0.085815  0.064754  0.054536  0.056019  0.058678   \n",
            "2       0.101787  0.103341  0.085705  0.068320  0.054536  0.055916  0.059498   \n",
            "3       0.101787  0.101699  0.085045  0.063495  0.054328  0.051480  0.052932   \n",
            "4       0.101787  0.100058  0.087575  0.065488  0.054536  0.055916  0.059498   \n",
            "...          ...       ...       ...       ...       ...       ...       ...   \n",
            "429407  0.062488  0.058247  0.045015  0.034692  0.030850  0.030421  0.033822   \n",
            "429408  0.062488  0.058247  0.040610  0.034902  0.030850  0.030421  0.033822   \n",
            "429409  0.062488  0.059892  0.044465  0.034167  0.030746  0.030731  0.033924   \n",
            "429410  0.062488  0.057660  0.043143  0.034692  0.030746  0.030731  0.033924   \n",
            "429411  0.062488  0.059187  0.043033  0.031333  0.029706  0.029595  0.031461   \n",
            "\n",
            "           nm842     nm865    nm1600    nm2200  Class_Num  \n",
            "0       0.049876  0.056887  0.042395  0.032179          0  \n",
            "1       0.052938  0.056887  0.042395  0.032179          0  \n",
            "2       0.053244  0.057091  0.042195  0.032279          0  \n",
            "3       0.051815  0.053328  0.039091  0.029878          0  \n",
            "4       0.052223  0.057091  0.042195  0.032279          0  \n",
            "...          ...       ...       ...       ...        ...  \n",
            "429407  0.028808  0.033241  0.025576  0.019075          1  \n",
            "429408  0.027685  0.033241  0.025576  0.019075          1  \n",
            "429409  0.029522  0.030393  0.025075  0.017574          1  \n",
            "429410  0.028603  0.030393  0.025075  0.017574          1  \n",
            "429411  0.026562  0.030088  0.024274  0.017774          1  \n",
            "\n",
            "[429412 rows x 12 columns]\n"
          ]
        }
      ]
    },
    {
      "cell_type": "code",
      "source": [
        "#df_val\n",
        "\n",
        "df_val_classes=df_val.iloc[:,12] #exctracting classes names\n"
      ],
      "metadata": {
        "id": "Dzc_VzI4Gyw-"
      },
      "execution_count": null,
      "outputs": []
    },
    {
      "cell_type": "code",
      "source": [
        "#df_val\n",
        "df_val=df_val.iloc[:,0:11] #extracting pixels information\n",
        "\n",
        "# Add a column with the corresponding class numbers to df_val\n",
        "df_val[\"Class_Num\"] = df_val_classes.map(class_dict)\n",
        "# Print the resulting dataframe\n",
        "print(df_val)"
      ],
      "metadata": {
        "id": "XMRQxIHuG7qI",
        "colab": {
          "base_uri": "https://localhost:8080/"
        },
        "outputId": "e0edfea8-0cd0-459a-d48e-9b7b838a1be9"
      },
      "execution_count": null,
      "outputs": [
        {
          "output_type": "stream",
          "name": "stdout",
          "text": [
            "           nm440     nm490     nm560     nm665     nm705     nm740     nm783  \\\n",
            "0       0.055481  0.049914  0.041615  0.035932  0.030630  0.030655  0.034099   \n",
            "1       0.055481  0.056589  0.042165  0.032787  0.029487  0.030140  0.034099   \n",
            "2       0.056749  0.061858  0.052387  0.039915  0.032708  0.033234  0.035740   \n",
            "3       0.055481  0.065840  0.052167  0.036665  0.030526  0.030449  0.032252   \n",
            "4       0.060424  0.064786  0.052717  0.040544  0.034267  0.033028  0.036253   \n",
            "...          ...       ...       ...       ...       ...       ...       ...   \n",
            "213097  0.065147  0.056678  0.040299  0.038716  0.035129  0.036097  0.038700   \n",
            "213098  0.065147  0.054200  0.040630  0.038821  0.035129  0.036097  0.038700   \n",
            "213099  0.065147  0.058448  0.042949  0.041028  0.034609  0.034443  0.037056   \n",
            "213100  0.065147  0.058802  0.043833  0.040397  0.034609  0.034443  0.037056   \n",
            "213101  0.064506  0.058566  0.040851  0.039136  0.032943  0.034960  0.035824   \n",
            "\n",
            "           nm842     nm865    nm1600    nm2200  Class_Num  \n",
            "0       0.029977  0.033055  0.024734  0.017859          1  \n",
            "1       0.029161  0.032649  0.023332  0.016559          1  \n",
            "2       0.031711  0.034682  0.025836  0.017459          0  \n",
            "3       0.030997  0.031835  0.021830  0.015358          0  \n",
            "4       0.031303  0.035597  0.024434  0.016759          0  \n",
            "...          ...       ...       ...       ...        ...  \n",
            "213097  0.034553  0.038309  0.030187  0.024275          1  \n",
            "213098  0.033429  0.038309  0.030187  0.024275          1  \n",
            "213099  0.035165  0.035256  0.029986  0.024175          1  \n",
            "213100  0.036391  0.035256  0.029986  0.024175          1  \n",
            "213101  0.034655  0.035052  0.029486  0.023475          1  \n",
            "\n",
            "[213102 rows x 12 columns]\n"
          ]
        }
      ]
    },
    {
      "cell_type": "code",
      "source": [
        "#df_test\n",
        "\n",
        "df_test_classes=df_test.iloc[:,12] #exctracting classes names\n"
      ],
      "metadata": {
        "id": "N5P4T-EPG8XI"
      },
      "execution_count": null,
      "outputs": []
    },
    {
      "cell_type": "code",
      "source": [
        "#df_test\n",
        "df_test=df_test.iloc[:,0:11] #extracting pixels information\n",
        "\n",
        "# Add a column with the corresponding class numbers to df_train\n",
        "df_test[\"Class_Num\"] = df_test_classes.map(class_dict)\n",
        "# Print the resulting dataframe\n",
        "print(df_test)"
      ],
      "metadata": {
        "id": "kikT1-LZG_bj",
        "colab": {
          "base_uri": "https://localhost:8080/"
        },
        "outputId": "c698ed5a-bd12-4a9d-d66d-b3933a7b9a5a"
      },
      "execution_count": null,
      "outputs": [
        {
          "output_type": "stream",
          "name": "stdout",
          "text": [
            "           nm440     nm490     nm560     nm665     nm705     nm740     nm783  \\\n",
            "0       0.026860  0.023231  0.012851  0.007386  0.005664  0.004713  0.004983   \n",
            "1       0.026860  0.022393  0.012962  0.006331  0.005559  0.005542  0.005703   \n",
            "2       0.026860  0.022393  0.013853  0.006647  0.005559  0.005542  0.005703   \n",
            "3       0.026729  0.021077  0.012294  0.006225  0.004514  0.004506  0.005086   \n",
            "4       0.026729  0.021795  0.012962  0.006858  0.004514  0.004506  0.005086   \n",
            "...          ...       ...       ...       ...       ...       ...       ...   \n",
            "194858  0.058966  0.055173  0.038499  0.029029  0.024716  0.025710  0.028051   \n",
            "194859  0.058966  0.058932  0.043786  0.031758  0.026692  0.025813  0.029797   \n",
            "194860  0.058966  0.055055  0.036626  0.027246  0.026692  0.025813  0.029797   \n",
            "194861  0.051325  0.045773  0.038719  0.035430  0.027004  0.030975  0.033698   \n",
            "194862  0.053363  0.047066  0.031339  0.024727  0.021805  0.020652  0.022200   \n",
            "\n",
            "           nm842     nm865    nm1600    nm2200  Class_Num  \n",
            "0       0.003172  0.004649  0.002069  0.001446          1  \n",
            "1       0.004605  0.003935  0.002169  0.001146          1  \n",
            "2       0.004502  0.003935  0.002169  0.001146          1  \n",
            "3       0.003786  0.003732  0.002370  0.001546          1  \n",
            "4       0.003786  0.003732  0.002370  0.001546          1  \n",
            "...          ...       ...       ...       ...        ...  \n",
            "194858  0.023755  0.026856  0.015622  0.009656          0  \n",
            "194859  0.023143  0.024720  0.014420  0.009556          0  \n",
            "194860  0.022224  0.024720  0.014420  0.009556          0  \n",
            "194861  0.038046  0.032247  0.012818  0.006454          3  \n",
            "194862  0.018652  0.020448  0.012017  0.007955          1  \n",
            "\n",
            "[194863 rows x 12 columns]\n"
          ]
        }
      ]
    },
    {
      "cell_type": "code",
      "source": [
        "#data augmentation\n",
        "#Creating the dataset of cloud masks\n",
        "#trainset\n",
        "  #creation of the trainset of the cloud dataset\n",
        "filenames = glob.glob(\"/content/drive/MyDrive/Colab Notebooks/DL project/data/clouds/train/*.png\")\n",
        "images= [Image.open(fn).convert('L') for fn in filenames]\n",
        "train_clouds_array= np.dstack([np.array(im) for im in images])\n",
        "#train_clouds_array=train_clouds_array.reshape(124416,45)#reshape to have 288*432 lines\n",
        "#train_clouds=pd.DataFrame(train_clouds_array)\n",
        "\n",
        "#validset\n",
        "  #creation of the trainset of the cloud dataset\n",
        "filenames2 = glob.glob(\"/content/drive/MyDrive/Colab Notebooks/DL project/data/clouds/valid/*.png\")\n",
        "images2= [Image.open(fn).convert('L') for fn in filenames2]\n",
        "valid_clouds_array = np.dstack([np.array(im) for im in images2])\n",
        "#valid_clouds_array=valid_clouds_array.reshape(124416,23)#reshape to have 288*432 lines\n",
        "#valid_clouds=pd.DataFrame(valid_clouds_array)\n",
        "#testset\n",
        "  #creation of the trainset of the cloud dataset\n",
        "filenames3 = glob.glob(\"/content/drive/MyDrive/Colab Notebooks/DL project/data/clouds/test/*.png\")\n",
        "images3= [Image.open(fn).convert('L') for fn in filenames3]\n",
        "test_clouds_array = np.dstack([np.array(im) for im in images3])\n"
      ],
      "metadata": {
        "id": "ubIZKpnLHC46"
      },
      "execution_count": null,
      "outputs": []
    },
    {
      "cell_type": "code",
      "source": [
        "#reashape train set\n",
        "train_clouds_array=train_clouds_array.reshape(124416,45)#reshape to have 288*432 lines\n",
        "train_clouds_array=train_clouds_array.astype(int) #make the clouds informations integers\n",
        "train_clouds=np.concatenate((train_clouds_array,np.zeros((304996,45))))# train clouds ready to be concatenate with df_train\n",
        "\n",
        "print(\"train_clouds:\",train_clouds.shape)\n"
      ],
      "metadata": {
        "id": "fgMmKuJyHIHw",
        "colab": {
          "base_uri": "https://localhost:8080/"
        },
        "outputId": "e94e44a7-098b-4541-f55b-f3d6096ca470"
      },
      "execution_count": null,
      "outputs": [
        {
          "output_type": "stream",
          "name": "stdout",
          "text": [
            "train_clouds: (429412, 45)\n"
          ]
        }
      ]
    },
    {
      "cell_type": "code",
      "source": [
        "#Creation of the train dataset \n",
        "\n",
        "df_train_labels= df_train.iloc[:, 11].values.reshape((-1, 1))  # reshape to column vector\n",
        "  #train set\n",
        "train=np.concatenate((df_train.iloc[:,0:11], train_clouds),axis=1)\n",
        "train=np.concatenate((train,df_train_labels),axis=1)\n",
        "print(\"train:\",train.shape)\n",
        "print(train)"
      ],
      "metadata": {
        "id": "F79ZQI-wHQT1",
        "colab": {
          "base_uri": "https://localhost:8080/"
        },
        "outputId": "6e8ba85e-3cac-40a6-c991-1383751fbd0f"
      },
      "execution_count": null,
      "outputs": [
        {
          "output_type": "stream",
          "name": "stdout",
          "text": [
            "train: (429412, 57)\n",
            "[[1.02548726e-01 9.95887294e-02 8.30654576e-02 ... 2.55000000e+02\n",
            "  2.55000000e+02 0.00000000e+00]\n",
            " [1.02548726e-01 1.02168523e-01 8.58148932e-02 ... 2.55000000e+02\n",
            "  2.55000000e+02 0.00000000e+00]\n",
            " [1.01787083e-01 1.03341155e-01 8.57049152e-02 ... 2.55000000e+02\n",
            "  2.55000000e+02 0.00000000e+00]\n",
            " ...\n",
            " [6.24879897e-02 5.98922931e-02 4.44645360e-02 ... 0.00000000e+00\n",
            "  0.00000000e+00 1.00000000e+00]\n",
            " [6.24879897e-02 5.76597191e-02 4.31431532e-02 ... 0.00000000e+00\n",
            "  0.00000000e+00 1.00000000e+00]\n",
            " [6.24879897e-02 5.91872670e-02 4.30330336e-02 ... 0.00000000e+00\n",
            "  0.00000000e+00 1.00000000e+00]]\n"
          ]
        }
      ]
    },
    {
      "cell_type": "code",
      "source": [
        "#reshape test set\n",
        "\n",
        "test_clouds_array=test_clouds_array.reshape(124416,27)#reshape to have 288*432 lines\n",
        "test_clouds_array=test_clouds_array.astype(int) #make the clouds informations integers\n",
        "test_clouds=np.concatenate((test_clouds_array,np.zeros((70447,27))))\n",
        "\n",
        "print(\"test_clouds:\",test_clouds.shape)\n",
        "\n"
      ],
      "metadata": {
        "id": "IT2y6BQuHU0h",
        "colab": {
          "base_uri": "https://localhost:8080/"
        },
        "outputId": "df24235d-be10-467f-d75c-3223a3cc6808"
      },
      "execution_count": null,
      "outputs": [
        {
          "output_type": "stream",
          "name": "stdout",
          "text": [
            "test_clouds: (194863, 27)\n"
          ]
        }
      ]
    },
    {
      "cell_type": "code",
      "source": [
        "#Creation of the test dataset \n",
        "\n",
        "df_test_labels= df_test.iloc[:, 11].values.reshape((-1, 1))  # reshape to column vector\n",
        "test=np.concatenate((df_test.iloc[:,0:11], test_clouds),axis=1)\n",
        "test=np.concatenate((test,df_test_labels),axis=1)\n",
        "print(\"test:\",test.shape)\n",
        "print(test)"
      ],
      "metadata": {
        "id": "KT8CwpxXHX2x",
        "colab": {
          "base_uri": "https://localhost:8080/"
        },
        "outputId": "4c4161e7-e0c6-4eab-ed8b-055d740e29d6"
      },
      "execution_count": null,
      "outputs": [
        {
          "output_type": "stream",
          "name": "stdout",
          "text": [
            "test: (194863, 39)\n",
            "[[2.68599205e-02 2.32307259e-02 1.28511488e-02 ... 2.55000000e+02\n",
            "  2.55000000e+02 1.00000000e+00]\n",
            " [2.68599205e-02 2.23931037e-02 1.29624968e-02 ... 2.55000000e+02\n",
            "  2.55000000e+02 1.00000000e+00]\n",
            " [2.68599205e-02 2.23931037e-02 1.38533069e-02 ... 2.55000000e+02\n",
            "  2.55000000e+02 1.00000000e+00]\n",
            " ...\n",
            " [5.89660630e-02 5.50550669e-02 3.66262123e-02 ... 0.00000000e+00\n",
            "  0.00000000e+00 0.00000000e+00]\n",
            " [5.13252988e-02 4.57734019e-02 3.87189351e-02 ... 0.00000000e+00\n",
            "  0.00000000e+00 3.00000000e+00]\n",
            " [5.33628315e-02 4.70657833e-02 3.13393362e-02 ... 0.00000000e+00\n",
            "  0.00000000e+00 1.00000000e+00]]\n"
          ]
        }
      ]
    },
    {
      "cell_type": "code",
      "source": [
        " #reshape valid set\n",
        "valid_clouds_array=valid_clouds_array.reshape(124416,23)#reshape to have 288*432 lines\n",
        "valid_clouds_array=valid_clouds_array.astype(int) #make the clouds informations integers\n",
        "valid_clouds=np.concatenate((valid_clouds_array,np.zeros((88686,23))))\n",
        "\n",
        "print(\"valid_clouds:\",valid_clouds.shape)\n"
      ],
      "metadata": {
        "id": "SaiTqePpHfin",
        "colab": {
          "base_uri": "https://localhost:8080/"
        },
        "outputId": "ac5b2d7a-2be1-4b3e-82e2-704181b58dc2"
      },
      "execution_count": null,
      "outputs": [
        {
          "output_type": "stream",
          "name": "stdout",
          "text": [
            "valid_clouds: (213102, 23)\n"
          ]
        }
      ]
    },
    {
      "cell_type": "code",
      "source": [
        "#Creation of the valid dataset \n",
        "df_val_labels= df_val.iloc[:, 11].values.reshape((-1, 1))  # reshape to column vector\n",
        "valid=np.concatenate((df_val.iloc[:,0:11],valid_clouds),axis=1)\n",
        "valid=np.concatenate((valid,df_val_labels),axis=1)\n",
        "print(\"valid:\",valid.shape)\n",
        "print(valid)"
      ],
      "metadata": {
        "id": "W6U2tHaLHhYC",
        "colab": {
          "base_uri": "https://localhost:8080/"
        },
        "outputId": "15cd70d1-d7e9-497b-c4d0-a5b4f165e750"
      },
      "execution_count": null,
      "outputs": [
        {
          "output_type": "stream",
          "name": "stdout",
          "text": [
            "valid: (213102, 35)\n",
            "[[5.54813668e-02 4.99140620e-02 4.16151099e-02 ... 2.55000000e+02\n",
            "  2.55000000e+02 1.00000000e+00]\n",
            " [5.54813668e-02 5.65888174e-02 4.21647131e-02 ... 2.55000000e+02\n",
            "  2.55000000e+02 1.00000000e+00]\n",
            " [5.67486621e-02 6.18583634e-02 5.23872860e-02 ... 2.55000000e+02\n",
            "  2.55000000e+02 0.00000000e+00]\n",
            " ...\n",
            " [6.51467443e-02 5.84480278e-02 4.29493301e-02 ... 0.00000000e+00\n",
            "  0.00000000e+00 1.00000000e+00]\n",
            " [6.51467443e-02 5.88020198e-02 4.38328125e-02 ... 0.00000000e+00\n",
            "  0.00000000e+00 1.00000000e+00]\n",
            " [6.45059496e-02 5.85660301e-02 4.08510752e-02 ... 0.00000000e+00\n",
            "  0.00000000e+00 1.00000000e+00]]\n"
          ]
        }
      ]
    },
    {
      "cell_type": "code",
      "source": [],
      "metadata": {
        "id": "Sz6phhWbKdBF"
      },
      "execution_count": null,
      "outputs": []
    },
    {
      "cell_type": "code",
      "source": [],
      "metadata": {
        "id": "Ol0I3u4jKnpi"
      },
      "execution_count": null,
      "outputs": []
    },
    {
      "cell_type": "code",
      "source": [
        "train_data = train[:, :-1] # extract input features from train\n",
        "train_labels = train[:, -1] # extract target labels from train\n",
        "#train_data=np.asarray(train_data).reshape(train_data.shape[0],1,train_data.shape[1])\n",
        "train_labels=np.asarray(train_labels).reshape(429412,1)\n",
        "print(train_data.shape)\n",
        "print(train_labels.shape)\n",
        "\n",
        "val_data = valid[:, :-1] # extract input features from valid\n",
        "val_labels = valid[:, -1] # extract target labels from valid\n",
        "#val_data=np.asarray(val_data).reshape(val_data.shape[0],1,val_data.shape[1])\n",
        "val_labels=np.asarray(val_labels).reshape(213102,1)\n",
        "print(val_data.shape)\n",
        "print(val_labels.shape)\n",
        "\n",
        "test_data = test[:, :-1] # extract input features from test\n",
        "test_labels = test[:, -1] # extract target labels from test\n",
        "#test_data=np.asarray(test_data).reshape(test_data.shape[0],1,test_data.shape[1])\n",
        "test_labels=np.asarray(test_labels).reshape(194863,1)\n",
        "\n",
        "print(test_data)\n",
        "print(test_data.shape)\n",
        "print(test_labels.shape)\n",
        "\n"
      ],
      "metadata": {
        "colab": {
          "base_uri": "https://localhost:8080/"
        },
        "id": "sHKrDFXhtxGv",
        "outputId": "2a2804fe-324e-456a-ddaf-ea9e25b68c2c"
      },
      "execution_count": null,
      "outputs": [
        {
          "output_type": "stream",
          "name": "stdout",
          "text": [
            "(429412, 56)\n",
            "(429412, 1)\n",
            "(213102, 34)\n",
            "(213102, 1)\n",
            "[[2.68599205e-02 2.32307259e-02 1.28511488e-02 ... 2.55000000e+02\n",
            "  2.55000000e+02 2.55000000e+02]\n",
            " [2.68599205e-02 2.23931037e-02 1.29624968e-02 ... 2.55000000e+02\n",
            "  2.55000000e+02 2.55000000e+02]\n",
            " [2.68599205e-02 2.23931037e-02 1.38533069e-02 ... 2.55000000e+02\n",
            "  2.55000000e+02 2.55000000e+02]\n",
            " ...\n",
            " [5.89660630e-02 5.50550669e-02 3.66262123e-02 ... 0.00000000e+00\n",
            "  0.00000000e+00 0.00000000e+00]\n",
            " [5.13252988e-02 4.57734019e-02 3.87189351e-02 ... 0.00000000e+00\n",
            "  0.00000000e+00 0.00000000e+00]\n",
            " [5.33628315e-02 4.70657833e-02 3.13393362e-02 ... 0.00000000e+00\n",
            "  0.00000000e+00 0.00000000e+00]]\n",
            "(194863, 38)\n",
            "(194863, 1)\n"
          ]
        }
      ]
    },
    {
      "cell_type": "code",
      "source": [
        "#Dimension reduction\n",
        "pca = PCA(n_components=1)\n",
        "pca_result = pca.fit_transform(train_data)\n",
        "\n",
        "#train_data['pca-one'] = pca_result\n",
        "\n",
        "print('Explained variation per principal component: {}'.format(pca.explained_variance_ratio_))"
      ],
      "metadata": {
        "id": "PX9jlC3IjlAd",
        "colab": {
          "base_uri": "https://localhost:8080/"
        },
        "outputId": "0f863503-e7b8-4cd4-b539-f6e398bd8834"
      },
      "execution_count": null,
      "outputs": [
        {
          "output_type": "stream",
          "name": "stdout",
          "text": [
            "Explained variation per principal component: [0.99968808]\n"
          ]
        }
      ]
    },
    {
      "cell_type": "code",
      "source": [
        "#Dimension reduction\n",
        "pca_test = PCA(n_components=1)\n",
        "pca_test_result = pca_test.fit_transform(test_data)\n",
        "\n",
        "print('Explained variation per principal component: {}'.format(pca_test.explained_variance_ratio_))"
      ],
      "metadata": {
        "id": "CJihoQA8o5LP",
        "colab": {
          "base_uri": "https://localhost:8080/"
        },
        "outputId": "75d9602f-3b0f-405c-e6c5-86d932b610b6"
      },
      "execution_count": null,
      "outputs": [
        {
          "output_type": "stream",
          "name": "stdout",
          "text": [
            "Explained variation per principal component: [0.99941893]\n"
          ]
        }
      ]
    },
    {
      "cell_type": "code",
      "source": [
        "#Dimension reduction\n",
        "pca_val = PCA(n_components=1)\n",
        "pca_val_result = pca_val.fit_transform(val_data)\n",
        "\n",
        "print('Explained variation per principal component: {}'.format(pca_val.explained_variance_ratio_))"
      ],
      "metadata": {
        "id": "kcEFlVBeo55G",
        "colab": {
          "base_uri": "https://localhost:8080/"
        },
        "outputId": "f31583ed-ba6e-4d96-dd59-e874c90deaf6"
      },
      "execution_count": null,
      "outputs": [
        {
          "output_type": "stream",
          "name": "stdout",
          "text": [
            "Explained variation per principal component: [0.99942456]\n"
          ]
        }
      ]
    },
    {
      "cell_type": "code",
      "source": [
        "print(pca_result.shape)\n",
        "print(pca_test_result.shape)\n",
        "print(pca_val_result.shape)\n",
        "print(train_labels.shape)"
      ],
      "metadata": {
        "id": "uwe9qfK7pVCv",
        "colab": {
          "base_uri": "https://localhost:8080/"
        },
        "outputId": "91d7bfbb-55ab-4b72-f7d9-5148aa74a758"
      },
      "execution_count": null,
      "outputs": [
        {
          "output_type": "stream",
          "name": "stdout",
          "text": [
            "(429412, 1)\n",
            "(194863, 1)\n",
            "(213102, 1)\n",
            "(429412, 1)\n"
          ]
        }
      ]
    },
    {
      "cell_type": "code",
      "source": [
        "from sklearn.neighbors import KNeighborsClassifier\n",
        "\n",
        "# Train of a kNN classifier \n",
        "\n",
        "classifier = KNeighborsClassifier(n_neighbors=5)\n",
        "classifier.fit(pca_result, train_labels)\n"
      ],
      "metadata": {
        "colab": {
          "base_uri": "https://localhost:8080/",
          "height": 132
        },
        "id": "D-EfVej3K0bK",
        "outputId": "fbf86185-8f29-4dab-8572-cbeba6ad5a87"
      },
      "execution_count": null,
      "outputs": [
        {
          "output_type": "stream",
          "name": "stderr",
          "text": [
            "/usr/local/lib/python3.9/dist-packages/sklearn/neighbors/_classification.py:215: DataConversionWarning: A column-vector y was passed when a 1d array was expected. Please change the shape of y to (n_samples,), for example using ravel().\n",
            "  return self._fit(X, y)\n"
          ]
        },
        {
          "output_type": "execute_result",
          "data": {
            "text/plain": [
              "KNeighborsClassifier()"
            ],
            "text/html": [
              "<style>#sk-container-id-1 {color: black;background-color: white;}#sk-container-id-1 pre{padding: 0;}#sk-container-id-1 div.sk-toggleable {background-color: white;}#sk-container-id-1 label.sk-toggleable__label {cursor: pointer;display: block;width: 100%;margin-bottom: 0;padding: 0.3em;box-sizing: border-box;text-align: center;}#sk-container-id-1 label.sk-toggleable__label-arrow:before {content: \"▸\";float: left;margin-right: 0.25em;color: #696969;}#sk-container-id-1 label.sk-toggleable__label-arrow:hover:before {color: black;}#sk-container-id-1 div.sk-estimator:hover label.sk-toggleable__label-arrow:before {color: black;}#sk-container-id-1 div.sk-toggleable__content {max-height: 0;max-width: 0;overflow: hidden;text-align: left;background-color: #f0f8ff;}#sk-container-id-1 div.sk-toggleable__content pre {margin: 0.2em;color: black;border-radius: 0.25em;background-color: #f0f8ff;}#sk-container-id-1 input.sk-toggleable__control:checked~div.sk-toggleable__content {max-height: 200px;max-width: 100%;overflow: auto;}#sk-container-id-1 input.sk-toggleable__control:checked~label.sk-toggleable__label-arrow:before {content: \"▾\";}#sk-container-id-1 div.sk-estimator input.sk-toggleable__control:checked~label.sk-toggleable__label {background-color: #d4ebff;}#sk-container-id-1 div.sk-label input.sk-toggleable__control:checked~label.sk-toggleable__label {background-color: #d4ebff;}#sk-container-id-1 input.sk-hidden--visually {border: 0;clip: rect(1px 1px 1px 1px);clip: rect(1px, 1px, 1px, 1px);height: 1px;margin: -1px;overflow: hidden;padding: 0;position: absolute;width: 1px;}#sk-container-id-1 div.sk-estimator {font-family: monospace;background-color: #f0f8ff;border: 1px dotted black;border-radius: 0.25em;box-sizing: border-box;margin-bottom: 0.5em;}#sk-container-id-1 div.sk-estimator:hover {background-color: #d4ebff;}#sk-container-id-1 div.sk-parallel-item::after {content: \"\";width: 100%;border-bottom: 1px solid gray;flex-grow: 1;}#sk-container-id-1 div.sk-label:hover label.sk-toggleable__label {background-color: #d4ebff;}#sk-container-id-1 div.sk-serial::before {content: \"\";position: absolute;border-left: 1px solid gray;box-sizing: border-box;top: 0;bottom: 0;left: 50%;z-index: 0;}#sk-container-id-1 div.sk-serial {display: flex;flex-direction: column;align-items: center;background-color: white;padding-right: 0.2em;padding-left: 0.2em;position: relative;}#sk-container-id-1 div.sk-item {position: relative;z-index: 1;}#sk-container-id-1 div.sk-parallel {display: flex;align-items: stretch;justify-content: center;background-color: white;position: relative;}#sk-container-id-1 div.sk-item::before, #sk-container-id-1 div.sk-parallel-item::before {content: \"\";position: absolute;border-left: 1px solid gray;box-sizing: border-box;top: 0;bottom: 0;left: 50%;z-index: -1;}#sk-container-id-1 div.sk-parallel-item {display: flex;flex-direction: column;z-index: 1;position: relative;background-color: white;}#sk-container-id-1 div.sk-parallel-item:first-child::after {align-self: flex-end;width: 50%;}#sk-container-id-1 div.sk-parallel-item:last-child::after {align-self: flex-start;width: 50%;}#sk-container-id-1 div.sk-parallel-item:only-child::after {width: 0;}#sk-container-id-1 div.sk-dashed-wrapped {border: 1px dashed gray;margin: 0 0.4em 0.5em 0.4em;box-sizing: border-box;padding-bottom: 0.4em;background-color: white;}#sk-container-id-1 div.sk-label label {font-family: monospace;font-weight: bold;display: inline-block;line-height: 1.2em;}#sk-container-id-1 div.sk-label-container {text-align: center;}#sk-container-id-1 div.sk-container {/* jupyter's `normalize.less` sets `[hidden] { display: none; }` but bootstrap.min.css set `[hidden] { display: none !important; }` so we also need the `!important` here to be able to override the default hidden behavior on the sphinx rendered scikit-learn.org. See: https://github.com/scikit-learn/scikit-learn/issues/21755 */display: inline-block !important;position: relative;}#sk-container-id-1 div.sk-text-repr-fallback {display: none;}</style><div id=\"sk-container-id-1\" class=\"sk-top-container\"><div class=\"sk-text-repr-fallback\"><pre>KNeighborsClassifier()</pre><b>In a Jupyter environment, please rerun this cell to show the HTML representation or trust the notebook. <br />On GitHub, the HTML representation is unable to render, please try loading this page with nbviewer.org.</b></div><div class=\"sk-container\" hidden><div class=\"sk-item\"><div class=\"sk-estimator sk-toggleable\"><input class=\"sk-toggleable__control sk-hidden--visually\" id=\"sk-estimator-id-1\" type=\"checkbox\" checked><label for=\"sk-estimator-id-1\" class=\"sk-toggleable__label sk-toggleable__label-arrow\">KNeighborsClassifier</label><div class=\"sk-toggleable__content\"><pre>KNeighborsClassifier()</pre></div></div></div></div></div>"
            ]
          },
          "metadata": {},
          "execution_count": 22
        }
      ]
    },
    {
      "cell_type": "code",
      "source": [
        "score = classifier.score(pca_test_result,test_labels)\n",
        "\n",
        "print(\" k=%d and the accuracy is %.2f%\",5,score*100)"
      ],
      "metadata": {
        "id": "jXP15-nAjj12",
        "colab": {
          "base_uri": "https://localhost:8080/"
        },
        "outputId": "5e8e0969-3769-4245-fb00-a2717c235a8c"
      },
      "execution_count": null,
      "outputs": [
        {
          "output_type": "stream",
          "name": "stdout",
          "text": [
            " k=%d and the accuracy is %.2f% 5 22.056521761442653\n"
          ]
        }
      ]
    },
    {
      "cell_type": "code",
      "source": [
        "from keras.utils import to_categorical\n",
        "\n",
        "# One-hot encoding the target labels\n",
        "num_classes = 15  # or the number of classes you have\n",
        "train_labels_one_hot = to_categorical(train_labels, num_classes=num_classes)\n",
        "val_labels_one_hot = to_categorical(val_labels, num_classes=num_classes)\n",
        "test_labels_one_hot = to_categorical(test_labels, num_classes=num_classes)\n",
        "\n",
        "# Printing the shapes of the one-hot encoded labels\n",
        "print(train_labels_one_hot.shape)  # (429412, 11)\n",
        "print(val_labels_one_hot.shape)  # (213102, 11)\n",
        "print(test_labels_one_hot.shape)  # (194863, 11)"
      ],
      "metadata": {
        "colab": {
          "base_uri": "https://localhost:8080/"
        },
        "id": "Ns8xQqCe-Vhy",
        "outputId": "a2d139a9-595b-4c7f-d9e4-fb27c8c7fba8"
      },
      "execution_count": null,
      "outputs": [
        {
          "output_type": "stream",
          "name": "stdout",
          "text": [
            "(429412, 15)\n",
            "(213102, 15)\n",
            "(194863, 15)\n"
          ]
        }
      ]
    },
    {
      "cell_type": "code",
      "source": [
        "#Fully connected NN\n",
        "from tensorflow.keras.layers import Dense\n",
        "\n",
        "model=Sequential()\n",
        "model.add(Dense(1024,input_shape=(429412, 1),activation=\"relu\"))\n",
        "model.add(Dense(500,activation=\"relu\"))\n",
        "model.add(Dense(300,activation=\"relu\"))\n",
        "model.add(Dense(256,activation=\"relu\"))\n",
        "model.add(Dense(150,activation=\"relu\"))\n",
        "model.add(Dense(100,activation=\"relu\"))\n",
        "model.add(Dense(56,activation=\"relu\"))\n",
        "model.add(Dense(15,activation=\"softmax\"))\n",
        "\n",
        "\n",
        "model.compile(loss=\"sparse_categorical_crossentropy\",optimizer=\"adam\",metrics=\"accuracy\")#explain why this loss fctn"
      ],
      "metadata": {
        "id": "kYIzoe8OoqgU"
      },
      "execution_count": null,
      "outputs": []
    },
    {
      "cell_type": "code",
      "source": [
        "print(model.output.shape)"
      ],
      "metadata": {
        "colab": {
          "base_uri": "https://localhost:8080/"
        },
        "id": "K3A_SlkD77O6",
        "outputId": "af65e3df-9648-4a9f-855f-89279106f663"
      },
      "execution_count": null,
      "outputs": [
        {
          "output_type": "stream",
          "name": "stdout",
          "text": [
            "(None, 429412, 15)\n"
          ]
        }
      ]
    },
    {
      "cell_type": "code",
      "source": [
        "import matplotlib.pyplot as plt\n",
        "\n",
        "\n",
        "history=model.fit(pca_result,train_labels,batch_size=32,epochs=3,validation_data=(pca_val_result,val_labels))\n",
        "\n",
        "loss,acc=model.evaluate(pca_test_result,test_labels)\n",
        "\n",
        "print(\"loss : \", loss)\n",
        "print(\"acc : \", acc)\n",
        "\n",
        "plt.plot(history.history['accuracy'])\n",
        "plt.plot(history.history['val_accuracy'])\n",
        "plt.title('model accuracy')\n",
        "plt.ylabel('accuracy')\n",
        "plt.xlabel('epoch')\n",
        "plt.legend(['train', 'validation'], loc='upper right')\n",
        "plt.show()\n",
        "\n",
        "plt.plot(history.history['loss'])\n",
        "plt.plot(history.history['val_loss'])\n",
        "plt.title('model loss')\n",
        "plt.ylabel('loss')\n",
        "plt.xlabel('epoch')\n",
        "plt.legend(['train', 'validation'], loc='upper right')\n",
        "\n",
        "plt.show()"
      ],
      "metadata": {
        "id": "b6m45J4epRgH",
        "colab": {
          "base_uri": "https://localhost:8080/",
          "height": 796
        },
        "outputId": "c7a32fcb-a1de-419a-c548-7f9ba44663f8"
      },
      "execution_count": null,
      "outputs": [
        {
          "output_type": "stream",
          "name": "stdout",
          "text": [
            "Epoch 1/3\n"
          ]
        },
        {
          "output_type": "stream",
          "name": "stderr",
          "text": [
            "/usr/local/lib/python3.9/dist-packages/tensorflow/python/data/ops/structured_function.py:256: UserWarning: Even though the `tf.config.experimental_run_functions_eagerly` option is set, this option does not apply to tf.data functions. To force eager execution of tf.data functions, please use `tf.data.experimental.enable_debug_mode()`.\n",
            "  warnings.warn(\n"
          ]
        },
        {
          "output_type": "stream",
          "name": "stdout",
          "text": [
            "13420/13420 [==============================] - 911s 68ms/step - loss: 1.6261 - accuracy: 0.4118 - val_loss: 1.4743 - val_accuracy: 0.5892\n",
            "Epoch 2/3\n",
            "13420/13420 [==============================] - 889s 66ms/step - loss: 1.6071 - accuracy: 0.4142 - val_loss: 1.4951 - val_accuracy: 0.5892\n",
            "Epoch 3/3\n",
            "13420/13420 [==============================] - 892s 66ms/step - loss: 1.6053 - accuracy: 0.4148 - val_loss: 1.4896 - val_accuracy: 0.5778\n",
            "6090/6090 [==============================] - 94s 16ms/step - loss: 1.6200 - accuracy: 0.4677\n",
            "loss :  1.619962215423584\n",
            "acc :  0.4676772952079773\n"
          ]
        },
        {
          "output_type": "display_data",
          "data": {
            "text/plain": [
              "<Figure size 432x288 with 1 Axes>"
            ],
            "image/png": "[encoded data removed]"
          },
          "metadata": {
            "needs_background": "light"
          }
        },
        {
          "output_type": "display_data",
          "data": {
            "text/plain": [
              "<Figure size 432x288 with 1 Axes>"
            ],
            "image/png": "[encoded data removed]"
          },
          "metadata": {
            "needs_background": "light"
          }
        }
      ]
    }
  ]
}