{
  "nbformat": 4,
  "nbformat_minor": 0,
  "metadata": {
    "colab": {
      "provenance": [],
      "authorship_tag": "ABX9TyN17NNbC10YeKYqMuRnge8A"
    },
    "kernelspec": {
      "name": "python3",
      "display_name": "Python 3"
    },
    "language_info": {
      "name": "python"
    },
    "accelerator": "TPU",
    "gpuClass": "standard"
  },
  "cells": [
    {
      "cell_type": "code",
      "source": [],
      "metadata": {
        "id": "iXZDzGCUfe-a"
      },
      "execution_count": null,
      "outputs": []
    },
    {
      "cell_type": "markdown",
      "source": [],
      "metadata": {
        "id": "6TUIhjsLfdl9"
      }
    },
    {
      "cell_type": "code",
      "execution_count": null,
      "metadata": {
        "id": "ijwHY5CCL8vp"
      },
      "outputs": [],
      "source": [
        "import tensorflow as tf \n",
        "from tensorflow import keras\n",
        "from tensorflow.keras.layers import Input, Conv2D, MaxPooling1D, Activation, ReLU,Convolution1D,Convolution1DTranspose,Lambda,Conv1D,Reshape,Dropout\n",
        "from tensorflow.keras.layers import BatchNormalization, Conv1DTranspose, Concatenate\n",
        "from tensorflow.keras.models import Model, Sequential\n",
        "from tensorflow import convert_to_tensor\n",
        "from sklearn.decomposition import PCA"
      ]
    },
    {
      "cell_type": "code",
      "source": [
        "!wget -q --show-progress --load-cookies /tmp/cookies.txt \"https://docs.google.com/uc?export=download&confirm=$(wget --quiet --save-cookies /tmp/cookies.txt --keep-session-cookies --no-check-certificate 'https://docs.google.com/uc?export=download&id=1e27X7344PjW366tA6EtGWasJYZvf4MQc' -O- | sed -rn 's/.*confirm=([0-9A-Za-z_]+).*/\\1\\n/p')&id=iD\" -O MARIDA.zip && rm -rf /tmp/cookies.txt\n",
        "from google.colab import drive\n",
        "drive.mount('/content/drive')\n",
        "# Set folder path\n",
        "\n",
        "folder_path = \"/content/drive/MyDrive/Colab Notebooks/DL project/data\"\n",
        "\n",
        "# List folder contents\n",
        "import os\n",
        "os.listdir(folder_path)\n",
        "\n",
        "!cd \"/content/drive/MyDrive/Colab Notebooks/DL project/data\"\n",
        "import pandas as pd\n",
        "#Spectral signature extraction\n",
        "hdf = pd.HDFStore(\"/content/drive/MyDrive/Colab Notebooks/DL project/data/dataset.h5\", mode = \"r\")\n",
        "#Slitting into train, val and test datasets\n",
        "df_train = hdf.select('train')\n",
        "df_val = hdf.select('val')\n",
        "df_test = hdf.select('test')\n",
        "print(hdf.keys())\n",
        "hdf.close()"
      ],
      "metadata": {
        "colab": {
          "base_uri": "https://localhost:8080/"
        },
        "id": "7-KUO6byiIQf",
        "outputId": "aaca23ee-9c57-4dde-8894-ee81a3cea8b6"
      },
      "execution_count": null,
      "outputs": [
        {
          "output_type": "stream",
          "name": "stdout",
          "text": [
            "Mounted at /content/drive\n",
            "['/test', '/train', '/val']\n"
          ]
        }
      ]
    },
    {
      "cell_type": "code",
      "source": [
        "import pandas as pd\n",
        "\n",
        "# Map class names to class numbers\n",
        "class_dict = {\n",
        "    \"Wakes\": 0,\n",
        "    \"Marine Water\": 1,\n",
        "    \"Ship\": 2,\n",
        "    \"Marine Debris\": 3,\n",
        "    \"Shallow Water\": 4,\n",
        "    \"Natural Organic Material\": 5,\n",
        "    \"Turbid Water\": 6,\n",
        "    \"Sparse Sargassum\": 7,\n",
        "    \"Foam\": 8,\n",
        "    \"Mixed Water\": 9,\n",
        "    \"Sediment-Laden Water\": 10,\n",
        "    \"Clouds\": 11,\n",
        "    \"Cloud Shadows\": 12,\n",
        "    \"Dense Sargassum\": 13,\n",
        "    \"Waves\": 14\n",
        "}\n",
        "df_train_classes=df_train.iloc[:,12] #exctracting classes names\n",
        "\n",
        "\n",
        "# Print the resulting dataframe\n",
        "#print(df_train)\n"
      ],
      "metadata": {
        "id": "iw4TSVv3pjrf"
      },
      "execution_count": null,
      "outputs": []
    },
    {
      "cell_type": "code",
      "source": [
        "df_train=df_train.iloc[:,0:11] #extracting pixels information\n",
        "\n",
        "# Add a column with the corresponding class numbers to df_train\n",
        "df_train[\"Class_Num\"] = df_train_classes.map(class_dict)\n",
        "# Print the resulting dataframe\n",
        "print(df_train)"
      ],
      "metadata": {
        "colab": {
          "base_uri": "https://localhost:8080/"
        },
        "id": "Zl6jppNplpcq",
        "outputId": "2324f1c5-2447-48b6-d0f9-784b472572c0"
      },
      "execution_count": null,
      "outputs": [
        {
          "output_type": "stream",
          "name": "stdout",
          "text": [
            "           nm440     nm490     nm560     nm665     nm705     nm740     nm783  \\\n",
            "0       0.102549  0.099589  0.083065  0.060977  0.054536  0.056019  0.058678   \n",
            "1       0.102549  0.102169  0.085815  0.064754  0.054536  0.056019  0.058678   \n",
            "2       0.101787  0.103341  0.085705  0.068320  0.054536  0.055916  0.059498   \n",
            "3       0.101787  0.101699  0.085045  0.063495  0.054328  0.051480  0.052932   \n",
            "4       0.101787  0.100058  0.087575  0.065488  0.054536  0.055916  0.059498   \n",
            "...          ...       ...       ...       ...       ...       ...       ...   \n",
            "429407  0.062488  0.058247  0.045015  0.034692  0.030850  0.030421  0.033822   \n",
            "429408  0.062488  0.058247  0.040610  0.034902  0.030850  0.030421  0.033822   \n",
            "429409  0.062488  0.059892  0.044465  0.034167  0.030746  0.030731  0.033924   \n",
            "429410  0.062488  0.057660  0.043143  0.034692  0.030746  0.030731  0.033924   \n",
            "429411  0.062488  0.059187  0.043033  0.031333  0.029706  0.029595  0.031461   \n",
            "\n",
            "           nm842     nm865    nm1600    nm2200  Class_Num  \n",
            "0       0.049876  0.056887  0.042395  0.032179          0  \n",
            "1       0.052938  0.056887  0.042395  0.032179          0  \n",
            "2       0.053244  0.057091  0.042195  0.032279          0  \n",
            "3       0.051815  0.053328  0.039091  0.029878          0  \n",
            "4       0.052223  0.057091  0.042195  0.032279          0  \n",
            "...          ...       ...       ...       ...        ...  \n",
            "429407  0.028808  0.033241  0.025576  0.019075          1  \n",
            "429408  0.027685  0.033241  0.025576  0.019075          1  \n",
            "429409  0.029522  0.030393  0.025075  0.017574          1  \n",
            "429410  0.028603  0.030393  0.025075  0.017574          1  \n",
            "429411  0.026562  0.030088  0.024274  0.017774          1  \n",
            "\n",
            "[429412 rows x 12 columns]\n"
          ]
        }
      ]
    },
    {
      "cell_type": "code",
      "source": [
        "#Validation set\n",
        "\n",
        "df_val_classes=df_val.iloc[:,12] #exctracting classes names"
      ],
      "metadata": {
        "id": "VE2CLA3zmi4t"
      },
      "execution_count": null,
      "outputs": []
    },
    {
      "cell_type": "code",
      "source": [
        "#Validation set\n",
        "\n",
        "df_val=df_val.iloc[:,0:11] #extracting pixels information\n",
        "\n",
        "# Add a column with the corresponding class numbers to df_val\n",
        "df_val[\"Class_Num\"] = df_val_classes.map(class_dict)\n",
        "# Print the resulting dataframe\n",
        "print(df_val)"
      ],
      "metadata": {
        "colab": {
          "base_uri": "https://localhost:8080/"
        },
        "id": "hfAz1c6-mnh_",
        "outputId": "bc3b3671-2786-4df3-f084-7f38245a1b05"
      },
      "execution_count": null,
      "outputs": [
        {
          "output_type": "stream",
          "name": "stdout",
          "text": [
            "           nm440     nm490     nm560     nm665     nm705     nm740     nm783  \\\n",
            "0       0.055481  0.049914  0.041615  0.035932  0.030630  0.030655  0.034099   \n",
            "1       0.055481  0.056589  0.042165  0.032787  0.029487  0.030140  0.034099   \n",
            "2       0.056749  0.061858  0.052387  0.039915  0.032708  0.033234  0.035740   \n",
            "3       0.055481  0.065840  0.052167  0.036665  0.030526  0.030449  0.032252   \n",
            "4       0.060424  0.064786  0.052717  0.040544  0.034267  0.033028  0.036253   \n",
            "...          ...       ...       ...       ...       ...       ...       ...   \n",
            "213097  0.065147  0.056678  0.040299  0.038716  0.035129  0.036097  0.038700   \n",
            "213098  0.065147  0.054200  0.040630  0.038821  0.035129  0.036097  0.038700   \n",
            "213099  0.065147  0.058448  0.042949  0.041028  0.034609  0.034443  0.037056   \n",
            "213100  0.065147  0.058802  0.043833  0.040397  0.034609  0.034443  0.037056   \n",
            "213101  0.064506  0.058566  0.040851  0.039136  0.032943  0.034960  0.035824   \n",
            "\n",
            "           nm842     nm865    nm1600    nm2200  Class_Num  \n",
            "0       0.029977  0.033055  0.024734  0.017859          1  \n",
            "1       0.029161  0.032649  0.023332  0.016559          1  \n",
            "2       0.031711  0.034682  0.025836  0.017459          0  \n",
            "3       0.030997  0.031835  0.021830  0.015358          0  \n",
            "4       0.031303  0.035597  0.024434  0.016759          0  \n",
            "...          ...       ...       ...       ...        ...  \n",
            "213097  0.034553  0.038309  0.030187  0.024275          1  \n",
            "213098  0.033429  0.038309  0.030187  0.024275          1  \n",
            "213099  0.035165  0.035256  0.029986  0.024175          1  \n",
            "213100  0.036391  0.035256  0.029986  0.024175          1  \n",
            "213101  0.034655  0.035052  0.029486  0.023475          1  \n",
            "\n",
            "[213102 rows x 12 columns]\n"
          ]
        }
      ]
    },
    {
      "cell_type": "code",
      "source": [
        "#Test set\n",
        "\n",
        "df_test_classes=df_test.iloc[:,12] #exctracting classes names\n"
      ],
      "metadata": {
        "id": "GAKXXV7dmpXb"
      },
      "execution_count": null,
      "outputs": []
    },
    {
      "cell_type": "code",
      "source": [
        "#Test set\n",
        "\n",
        "df_test=df_test.iloc[:,0:11] #extracting pixels information\n",
        "\n",
        "# Add a column with the corresponding class numbers to df_test\n",
        "df_test[\"Class_Num\"] = df_test_classes.map(class_dict)\n",
        "# Print the resulting dataframe\n",
        "print(df_test)"
      ],
      "metadata": {
        "colab": {
          "base_uri": "https://localhost:8080/"
        },
        "id": "24gOO2I5mrYI",
        "outputId": "963b20a4-6265-4343-f962-538f10f648c4"
      },
      "execution_count": null,
      "outputs": [
        {
          "output_type": "stream",
          "name": "stdout",
          "text": [
            "           nm440     nm490     nm560     nm665     nm705     nm740     nm783  \\\n",
            "0       0.026860  0.023231  0.012851  0.007386  0.005664  0.004713  0.004983   \n",
            "1       0.026860  0.022393  0.012962  0.006331  0.005559  0.005542  0.005703   \n",
            "2       0.026860  0.022393  0.013853  0.006647  0.005559  0.005542  0.005703   \n",
            "3       0.026729  0.021077  0.012294  0.006225  0.004514  0.004506  0.005086   \n",
            "4       0.026729  0.021795  0.012962  0.006858  0.004514  0.004506  0.005086   \n",
            "...          ...       ...       ...       ...       ...       ...       ...   \n",
            "194858  0.058966  0.055173  0.038499  0.029029  0.024716  0.025710  0.028051   \n",
            "194859  0.058966  0.058932  0.043786  0.031758  0.026692  0.025813  0.029797   \n",
            "194860  0.058966  0.055055  0.036626  0.027246  0.026692  0.025813  0.029797   \n",
            "194861  0.051325  0.045773  0.038719  0.035430  0.027004  0.030975  0.033698   \n",
            "194862  0.053363  0.047066  0.031339  0.024727  0.021805  0.020652  0.022200   \n",
            "\n",
            "           nm842     nm865    nm1600    nm2200  Class_Num  \n",
            "0       0.003172  0.004649  0.002069  0.001446          1  \n",
            "1       0.004605  0.003935  0.002169  0.001146          1  \n",
            "2       0.004502  0.003935  0.002169  0.001146          1  \n",
            "3       0.003786  0.003732  0.002370  0.001546          1  \n",
            "4       0.003786  0.003732  0.002370  0.001546          1  \n",
            "...          ...       ...       ...       ...        ...  \n",
            "194858  0.023755  0.026856  0.015622  0.009656          0  \n",
            "194859  0.023143  0.024720  0.014420  0.009556          0  \n",
            "194860  0.022224  0.024720  0.014420  0.009556          0  \n",
            "194861  0.038046  0.032247  0.012818  0.006454          3  \n",
            "194862  0.018652  0.020448  0.012017  0.007955          1  \n",
            "\n",
            "[194863 rows x 12 columns]\n"
          ]
        }
      ]
    },
    {
      "cell_type": "code",
      "source": [
        "import numpy as np\n",
        "train_data = df_train.iloc[:, :-1] # extract input features from df_train\n",
        "train_labels = df_train.iloc[:, -1] # extract target labels from df_train\n",
        "\n",
        "\n",
        "print(train_data.shape)\n",
        "print(train_labels.shape)"
      ],
      "metadata": {
        "colab": {
          "base_uri": "https://localhost:8080/"
        },
        "id": "4fsBYa5sBJzu",
        "outputId": "807cf939-9ec4-4988-e5ed-07aff32565be"
      },
      "execution_count": null,
      "outputs": [
        {
          "output_type": "stream",
          "name": "stdout",
          "text": [
            "(429412, 11)\n",
            "(429412,)\n"
          ]
        }
      ]
    },
    {
      "cell_type": "code",
      "source": [
        "val_data = df_val.iloc[:, :-1] # extract input features from df_val\n",
        "val_labels = df_val.iloc[:, -1] # extract target labels from df_val\n",
        "\n",
        "print(train_data.shape)\n",
        "print(train_labels.shape)\n",
        "print(val_data.shape)\n",
        "print(val_labels.shape)"
      ],
      "metadata": {
        "colab": {
          "base_uri": "https://localhost:8080/"
        },
        "id": "bwo3taVQBoHT",
        "outputId": "11d62b37-712e-4c20-947f-d8a9448a6d99"
      },
      "execution_count": null,
      "outputs": [
        {
          "output_type": "stream",
          "name": "stdout",
          "text": [
            "(429412, 11)\n",
            "(429412,)\n",
            "(213102, 11)\n",
            "(213102,)\n"
          ]
        }
      ]
    },
    {
      "cell_type": "code",
      "source": [
        "test_data = df_test.iloc[:, :-1] # extract input features from df_test\n",
        "test_labels = df_test.iloc[:, -1] # extract target labels from df_test"
      ],
      "metadata": {
        "id": "rqYnBds8JRsK"
      },
      "execution_count": null,
      "outputs": []
    },
    {
      "cell_type": "code",
      "source": [
        "#PC of the train data\n",
        "pca = PCA(n_components=1)\n",
        "pca_result = pca.fit_transform(train_data)\n",
        "\n",
        "\n",
        "print('Explained variation per principal component: {}'.format(pca.explained_variance_ratio_))"
      ],
      "metadata": {
        "colab": {
          "base_uri": "https://localhost:8080/"
        },
        "id": "ii2wDsmLy8f6",
        "outputId": "dcead669-f8b9-4eb9-f4d4-fc983d227da7"
      },
      "execution_count": null,
      "outputs": [
        {
          "output_type": "stream",
          "name": "stdout",
          "text": [
            "Explained variation per principal component: [0.96357005]\n"
          ]
        }
      ]
    },
    {
      "cell_type": "code",
      "source": [
        "#PC of the test data\n",
        "pca_test = PCA(n_components=1)\n",
        "pca_test_result = pca_test.fit_transform(test_data)\n",
        "\n",
        "\n",
        "print('Explained variation per principal component: {}'.format(pca_test.explained_variance_ratio_))"
      ],
      "metadata": {
        "colab": {
          "base_uri": "https://localhost:8080/"
        },
        "id": "NisSJaY0AjyZ",
        "outputId": "a3d3f9f5-9ef5-492d-934e-301b73514a61"
      },
      "execution_count": null,
      "outputs": [
        {
          "output_type": "stream",
          "name": "stdout",
          "text": [
            "Explained variation per principal component: [0.82570535]\n"
          ]
        }
      ]
    },
    {
      "cell_type": "code",
      "source": [
        "\n",
        "from sklearn.neighbors import KNeighborsClassifier\n",
        "\n",
        "# Train the kNN classifier. \n",
        "\n",
        "print(pca_result.shape)\n",
        "classifier = KNeighborsClassifier(n_neighbors=5)\n",
        "classifier.fit(pca_result,train_labels)\n"
      ],
      "metadata": {
        "colab": {
          "base_uri": "https://localhost:8080/",
          "height": 93
        },
        "id": "pA7pZ9K1H-QM",
        "outputId": "d7b9bd84-f1b3-4bf1-e25e-dc48820ff757"
      },
      "execution_count": null,
      "outputs": [
        {
          "output_type": "stream",
          "name": "stdout",
          "text": [
            "(429412, 1)\n"
          ]
        },
        {
          "output_type": "execute_result",
          "data": {
            "text/plain": [
              "KNeighborsClassifier()"
            ],
            "text/html": [
              "<style>#sk-container-id-1 {color: black;background-color: white;}#sk-container-id-1 pre{padding: 0;}#sk-container-id-1 div.sk-toggleable {background-color: white;}#sk-container-id-1 label.sk-toggleable__label {cursor: pointer;display: block;width: 100%;margin-bottom: 0;padding: 0.3em;box-sizing: border-box;text-align: center;}#sk-container-id-1 label.sk-toggleable__label-arrow:before {content: \"▸\";float: left;margin-right: 0.25em;color: #696969;}#sk-container-id-1 label.sk-toggleable__label-arrow:hover:before {color: black;}#sk-container-id-1 div.sk-estimator:hover label.sk-toggleable__label-arrow:before {color: black;}#sk-container-id-1 div.sk-toggleable__content {max-height: 0;max-width: 0;overflow: hidden;text-align: left;background-color: #f0f8ff;}#sk-container-id-1 div.sk-toggleable__content pre {margin: 0.2em;color: black;border-radius: 0.25em;background-color: #f0f8ff;}#sk-container-id-1 input.sk-toggleable__control:checked~div.sk-toggleable__content {max-height: 200px;max-width: 100%;overflow: auto;}#sk-container-id-1 input.sk-toggleable__control:checked~label.sk-toggleable__label-arrow:before {content: \"▾\";}#sk-container-id-1 div.sk-estimator input.sk-toggleable__control:checked~label.sk-toggleable__label {background-color: #d4ebff;}#sk-container-id-1 div.sk-label input.sk-toggleable__control:checked~label.sk-toggleable__label {background-color: #d4ebff;}#sk-container-id-1 input.sk-hidden--visually {border: 0;clip: rect(1px 1px 1px 1px);clip: rect(1px, 1px, 1px, 1px);height: 1px;margin: -1px;overflow: hidden;padding: 0;position: absolute;width: 1px;}#sk-container-id-1 div.sk-estimator {font-family: monospace;background-color: #f0f8ff;border: 1px dotted black;border-radius: 0.25em;box-sizing: border-box;margin-bottom: 0.5em;}#sk-container-id-1 div.sk-estimator:hover {background-color: #d4ebff;}#sk-container-id-1 div.sk-parallel-item::after {content: \"\";width: 100%;border-bottom: 1px solid gray;flex-grow: 1;}#sk-container-id-1 div.sk-label:hover label.sk-toggleable__label {background-color: #d4ebff;}#sk-container-id-1 div.sk-serial::before {content: \"\";position: absolute;border-left: 1px solid gray;box-sizing: border-box;top: 0;bottom: 0;left: 50%;z-index: 0;}#sk-container-id-1 div.sk-serial {display: flex;flex-direction: column;align-items: center;background-color: white;padding-right: 0.2em;padding-left: 0.2em;position: relative;}#sk-container-id-1 div.sk-item {position: relative;z-index: 1;}#sk-container-id-1 div.sk-parallel {display: flex;align-items: stretch;justify-content: center;background-color: white;position: relative;}#sk-container-id-1 div.sk-item::before, #sk-container-id-1 div.sk-parallel-item::before {content: \"\";position: absolute;border-left: 1px solid gray;box-sizing: border-box;top: 0;bottom: 0;left: 50%;z-index: -1;}#sk-container-id-1 div.sk-parallel-item {display: flex;flex-direction: column;z-index: 1;position: relative;background-color: white;}#sk-container-id-1 div.sk-parallel-item:first-child::after {align-self: flex-end;width: 50%;}#sk-container-id-1 div.sk-parallel-item:last-child::after {align-self: flex-start;width: 50%;}#sk-container-id-1 div.sk-parallel-item:only-child::after {width: 0;}#sk-container-id-1 div.sk-dashed-wrapped {border: 1px dashed gray;margin: 0 0.4em 0.5em 0.4em;box-sizing: border-box;padding-bottom: 0.4em;background-color: white;}#sk-container-id-1 div.sk-label label {font-family: monospace;font-weight: bold;display: inline-block;line-height: 1.2em;}#sk-container-id-1 div.sk-label-container {text-align: center;}#sk-container-id-1 div.sk-container {/* jupyter's `normalize.less` sets `[hidden] { display: none; }` but bootstrap.min.css set `[hidden] { display: none !important; }` so we also need the `!important` here to be able to override the default hidden behavior on the sphinx rendered scikit-learn.org. See: https://github.com/scikit-learn/scikit-learn/issues/21755 */display: inline-block !important;position: relative;}#sk-container-id-1 div.sk-text-repr-fallback {display: none;}</style><div id=\"sk-container-id-1\" class=\"sk-top-container\"><div class=\"sk-text-repr-fallback\"><pre>KNeighborsClassifier()</pre><b>In a Jupyter environment, please rerun this cell to show the HTML representation or trust the notebook. <br />On GitHub, the HTML representation is unable to render, please try loading this page with nbviewer.org.</b></div><div class=\"sk-container\" hidden><div class=\"sk-item\"><div class=\"sk-estimator sk-toggleable\"><input class=\"sk-toggleable__control sk-hidden--visually\" id=\"sk-estimator-id-1\" type=\"checkbox\" checked><label for=\"sk-estimator-id-1\" class=\"sk-toggleable__label sk-toggleable__label-arrow\">KNeighborsClassifier</label><div class=\"sk-toggleable__content\"><pre>KNeighborsClassifier()</pre></div></div></div></div></div>"
            ]
          },
          "metadata": {},
          "execution_count": 14
        }
      ]
    },
    {
      "cell_type": "code",
      "source": [
        "#Evaluate the classifier\n",
        "score = classifier.score(pca_test_result,test_labels)\n",
        "\n",
        "print(\" k=%d and the accuracy is %.2f%\",5,score*100)"
      ],
      "metadata": {
        "colab": {
          "base_uri": "https://localhost:8080/"
        },
        "id": "X6WdT1QpCwFC",
        "outputId": "4e276550-741a-445e-fc25-11e8ea97434a"
      },
      "execution_count": null,
      "outputs": [
        {
          "output_type": "stream",
          "name": "stdout",
          "text": [
            " k=%d and the accuracy is %.2f% 5 52.99158896250186\n"
          ]
        }
      ]
    },
    {
      "cell_type": "code",
      "source": [
        "y_pred=classifier.predict(pca_test_result)\n",
        "print(y_pred)\n",
        "print(test_labels)"
      ],
      "metadata": {
        "colab": {
          "base_uri": "https://localhost:8080/"
        },
        "id": "KkmkrvHDJ2Ib",
        "outputId": "d10e07c7-a7f5-4bc4-902b-701ef6fdab68"
      },
      "execution_count": null,
      "outputs": [
        {
          "output_type": "stream",
          "name": "stdout",
          "text": [
            "[1 1 1 ... 0 1 6]\n",
            "0         1\n",
            "1         1\n",
            "2         1\n",
            "3         1\n",
            "4         1\n",
            "         ..\n",
            "194858    0\n",
            "194859    0\n",
            "194860    0\n",
            "194861    3\n",
            "194862    1\n",
            "Name: Class_Num, Length: 194863, dtype: int64\n"
          ]
        }
      ]
    },
    {
      "cell_type": "code",
      "source": [
        "#PC of the validation data\n",
        "pca_val = PCA(n_components=1)\n",
        "pca_val_result = pca_val.fit_transform(val_data)\n",
        "\n",
        "#test_data['pca-one'] = pca_test_result[:,0]\n",
        "#test_data['pca-two'] = pca_test_result[:,1]\n",
        "\n",
        "print('Explained variation per principal component: {}'.format(pca_val.explained_variance_ratio_))"
      ],
      "metadata": {
        "colab": {
          "base_uri": "https://localhost:8080/"
        },
        "id": "nyICyIGrmmKu",
        "outputId": "0f8f51f0-b262-4854-d80f-ec0082aac8c5"
      },
      "execution_count": null,
      "outputs": [
        {
          "output_type": "stream",
          "name": "stdout",
          "text": [
            "Explained variation per principal component: [0.80835951]\n"
          ]
        }
      ]
    },
    {
      "cell_type": "code",
      "source": [
        "#Fully connected NN\n",
        "from tensorflow.keras.layers import Dense\n",
        "\n",
        "model=Sequential()\n",
        "model.add(Dense(1024,input_shape=(429412, 1),activation=\"relu\"))\n",
        "model.add(Dense(500,activation=\"relu\"))\n",
        "model.add(Dense(300,activation=\"relu\"))\n",
        "model.add(Dense(256,activation=\"relu\"))\n",
        "model.add(Dense(150,activation=\"relu\"))\n",
        "model.add(Dense(100,activation=\"relu\"))\n",
        "model.add(Dense(56,activation=\"relu\"))\n",
        "model.add(Dense(15,activation=\"softmax\"))\n",
        "\n",
        "model.compile(loss=\"sparse_categorical_crossentropy\",optimizer=\"adam\",metrics=\"accuracy\")"
      ],
      "metadata": {
        "id": "Y5ykBw6xH-Xm"
      },
      "execution_count": null,
      "outputs": []
    },
    {
      "cell_type": "code",
      "source": [
        "model.summary()"
      ],
      "metadata": {
        "id": "b4xXR1G7XKp4",
        "outputId": "b0395bb9-1ce7-42ba-b02f-ead380a11505",
        "colab": {
          "base_uri": "https://localhost:8080/"
        }
      },
      "execution_count": null,
      "outputs": [
        {
          "output_type": "stream",
          "name": "stdout",
          "text": [
            "Model: \"sequential\"\n",
            "_________________________________________________________________\n",
            " Layer (type)                Output Shape              Param #   \n",
            "=================================================================\n",
            " dense (Dense)               (None, 429412, 1024)      2048      \n",
            "                                                                 \n",
            " dense_1 (Dense)             (None, 429412, 500)       512500    \n",
            "                                                                 \n",
            " dense_2 (Dense)             (None, 429412, 300)       150300    \n",
            "                                                                 \n",
            " dense_3 (Dense)             (None, 429412, 256)       77056     \n",
            "                                                                 \n",
            " dense_4 (Dense)             (None, 429412, 150)       38550     \n",
            "                                                                 \n",
            " dense_5 (Dense)             (None, 429412, 100)       15100     \n",
            "                                                                 \n",
            " dense_6 (Dense)             (None, 429412, 56)        5656      \n",
            "                                                                 \n",
            " dense_7 (Dense)             (None, 429412, 15)        855       \n",
            "                                                                 \n",
            "=================================================================\n",
            "Total params: 802,065\n",
            "Trainable params: 802,065\n",
            "Non-trainable params: 0\n",
            "_________________________________________________________________\n"
          ]
        }
      ]
    },
    {
      "cell_type": "code",
      "source": [
        "#Train the FCNN\n",
        "import matplotlib.pyplot as plt\n",
        "\n",
        "\n",
        "history=model.fit(pca_result,train_labels,batch_size=32,epochs=10,validation_data=(pca_val_result,val_labels))\n",
        "\n",
        "loss,acc=model.evaluate(pca_test_result,test_labels)\n",
        "\n",
        "print(\"loss : \", loss)\n",
        "print(\"acc : \", acc)\n",
        "\n",
        "\n",
        "plt.plot(history.history['accuracy'])\n",
        "plt.plot(history.history['val_accuracy'])\n",
        "plt.title('model accuracy')\n",
        "plt.ylabel('accuracy')\n",
        "plt.xlabel('epoch')\n",
        "plt.legend(['train', 'validation'], loc='upper right')\n",
        "plt.show()\n",
        "\n",
        "plt.plot(history.history['loss'])\n",
        "plt.plot(history.history['val_loss'])\n",
        "plt.title('model loss')\n",
        "plt.ylabel('loss')\n",
        "plt.xlabel('epoch')\n",
        "plt.legend(['train', 'validation'], loc='upper right')\n",
        "\n",
        "plt.show()\n"
      ],
      "metadata": {
        "colab": {
          "base_uri": "https://localhost:8080/",
          "height": 1000
        },
        "id": "szb4NcUwmXbV",
        "outputId": "8509617c-f72c-4560-90c2-a64e457f8f87"
      },
      "execution_count": null,
      "outputs": [
        {
          "output_type": "stream",
          "name": "stdout",
          "text": [
            "Epoch 1/10\n"
          ]
        },
        {
          "output_type": "stream",
          "name": "stderr",
          "text": [
            "WARNING:tensorflow:Model was constructed with shape (None, 429412, 1) for input KerasTensor(type_spec=TensorSpec(shape=(None, 429412, 1), dtype=tf.float32, name='dense_input'), name='dense_input', description=\"created by layer 'dense_input'\"), but it was called on an input with incompatible shape (None, 1, 1).\n",
            "WARNING:tensorflow:Model was constructed with shape (None, 429412, 1) for input KerasTensor(type_spec=TensorSpec(shape=(None, 429412, 1), dtype=tf.float32, name='dense_input'), name='dense_input', description=\"created by layer 'dense_input'\"), but it was called on an input with incompatible shape (None, 1, 1).\n"
          ]
        },
        {
          "output_type": "stream",
          "name": "stdout",
          "text": [
            "13419/13420 [============================>.] - ETA: 0s - loss: 0.8618 - accuracy: 0.7272"
          ]
        },
        {
          "output_type": "stream",
          "name": "stderr",
          "text": [
            "WARNING:tensorflow:Model was constructed with shape (None, 429412, 1) for input KerasTensor(type_spec=TensorSpec(shape=(None, 429412, 1), dtype=tf.float32, name='dense_input'), name='dense_input', description=\"created by layer 'dense_input'\"), but it was called on an input with incompatible shape (None, 1, 1).\n"
          ]
        },
        {
          "output_type": "stream",
          "name": "stdout",
          "text": [
            "\b\b\b\b\b\b\b\b\b\b\b\b\b\b\b\b\b\b\b\b\b\b\b\b\b\b\b\b\b\b\b\b\b\b\b\b\b\b\b\b\b\b\b\b\b\b\b\b\b\b\b\b\b\b\b\b\b\b\b\b\b\b\b\b\b\b\b\b\b\b\b\b\b\b\b\b\b\b\b\b\b\b\b\b\b\b\b\b\r13420/13420 [==============================] - 291s 22ms/step - loss: 0.8618 - accuracy: 0.7272 - val_loss: 0.7053 - val_accuracy: 0.7913\n",
            "Epoch 2/10\n",
            "13420/13420 [==============================] - 279s 21ms/step - loss: 0.8329 - accuracy: 0.7360 - val_loss: 0.7107 - val_accuracy: 0.8039\n",
            "Epoch 3/10\n",
            "13420/13420 [==============================] - 286s 21ms/step - loss: 0.8220 - accuracy: 0.7377 - val_loss: 0.7572 - val_accuracy: 0.8034\n",
            "Epoch 4/10\n",
            "13420/13420 [==============================] - 283s 21ms/step - loss: 0.8145 - accuracy: 0.7392 - val_loss: 0.7205 - val_accuracy: 0.8035\n",
            "Epoch 5/10\n",
            "13420/13420 [==============================] - 273s 20ms/step - loss: 0.8121 - accuracy: 0.7399 - val_loss: 0.7471 - val_accuracy: 0.7992\n",
            "Epoch 6/10\n",
            "13420/13420 [==============================] - 271s 20ms/step - loss: 0.8078 - accuracy: 0.7404 - val_loss: 0.7668 - val_accuracy: 0.7951\n",
            "Epoch 7/10\n",
            "13420/13420 [==============================] - 283s 21ms/step - loss: 0.8052 - accuracy: 0.7409 - val_loss: 0.7924 - val_accuracy: 0.8019\n",
            "Epoch 8/10\n",
            "13420/13420 [==============================] - 269s 20ms/step - loss: 0.8034 - accuracy: 0.7410 - val_loss: 0.7478 - val_accuracy: 0.8037\n",
            "Epoch 9/10\n",
            "13420/13420 [==============================] - 249s 19ms/step - loss: 0.8013 - accuracy: 0.7414 - val_loss: 0.9845 - val_accuracy: 0.8030\n",
            "Epoch 10/10\n",
            "13420/13420 [==============================] - 272s 20ms/step - loss: 0.8070 - accuracy: 0.7408 - val_loss: 0.7348 - val_accuracy: 0.8017\n",
            "6090/6090 [==============================] - 34s 6ms/step - loss: 1.6916 - accuracy: 0.5741\n",
            "loss :  1.69162917137146\n",
            "acc :  0.5741007924079895\n"
          ]
        },
        {
          "output_type": "display_data",
          "data": {
            "text/plain": [
              "<Figure size 432x288 with 1 Axes>"
            ],
            "image/png": "[encoded data removed]"
          },
          "metadata": {
            "needs_background": "light"
          }
        },
        {
          "output_type": "display_data",
          "data": {
            "text/plain": [
              "<Figure size 432x288 with 1 Axes>"
            ],
            "image/png": "[encoded data removed]"
          },
          "metadata": {
            "needs_background": "light"
          }
        }
      ]
    }
  ]
}