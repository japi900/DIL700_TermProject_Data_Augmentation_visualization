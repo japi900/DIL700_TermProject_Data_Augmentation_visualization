{
  "nbformat": 4,
  "nbformat_minor": 0,
  "metadata": {
    "colab": {
      "provenance": [],
      "authorship_tag": "ABX9TyMzPOf+RCRzgx1OO6d9JvSu"
    },
    "kernelspec": {
      "name": "python3",
      "display_name": "Python 3"
    },
    "language_info": {
      "name": "python"
    },
    "accelerator": "TPU",
    "gpuClass": "standard"
  },
  "cells": [
    {
      "cell_type": "code",
      "execution_count": 1,
      "metadata": {
        "id": "PvdICBLQjpHQ",
        "colab": {
          "base_uri": "https://localhost:8080/"
        },
        "outputId": "6cd7edeb-934a-493f-92c9-733a4a8959f0"
      },
      "outputs": [
        {
          "output_type": "stream",
          "name": "stdout",
          "text": [
            "Mounted at /content/drive\n",
            "['/test', '/train', '/val']\n"
          ]
        }
      ],
      "source": [
        "#Download the MARIDA dataset\n",
        "\n",
        "!wget -q --show-progress --load-cookies /tmp/cookies.txt \"https://docs.google.com/uc?export=download&confirm=$(wget --quiet --save-cookies /tmp/cookies.txt --keep-session-cookies --no-check-certificate 'https://docs.google.com/uc?export=download&id=1e27X7344PjW366tA6EtGWasJYZvf4MQc' -O- | sed -rn 's/.*confirm=([0-9A-Za-z_]+).*/\\1\\n/p')&id=iD\" -O MARIDA.zip && rm -rf /tmp/cookies.txt\n",
        "from google.colab import drive\n",
        "drive.mount('/content/drive')\n",
        "# Set folder path\n",
        "\n",
        "folder_path = \"/content/drive/MyDrive/Colab Notebooks/DL project/data\"\n",
        "\n",
        "# List folder contents\n",
        "import os\n",
        "os.listdir(folder_path)\n",
        "\n",
        "!cd \"/content/drive/MyDrive/Colab Notebooks/DL project/data\"\n",
        "import pandas as pd\n",
        "#Spectral signature extraction\n",
        "hdf = pd.HDFStore(\"/content/drive/MyDrive/Colab Notebooks/DL project/data/dataset.h5\", mode = \"r\")\n",
        "#Slitting into train, val and test datasets\n",
        "df_train = hdf.select('train')\n",
        "df_val = hdf.select('val')\n",
        "df_test = hdf.select('test')\n",
        "print(hdf.keys())\n",
        "hdf.close()"
      ]
    },
    {
      "cell_type": "code",
      "source": [
        "#Import the libraries\n",
        "import numpy as np\n",
        "from PIL import Image\n",
        "import glob\n",
        "import pandas as pd\n",
        "from keras.utils import to_categorical\n",
        "import os\n",
        "import imageio\n",
        "import seaborn as sns\n",
        "import pandas as pd\n",
        "from sklearn.decomposition import PCA\n",
        "import matplotlib.pyplot as plt\n",
        "import tensorflow as tf \n",
        "tf.config.run_functions_eagerly(True)\n",
        "from tensorflow import keras\n",
        "from tensorflow.keras.layers import Input, Conv2D, MaxPooling1D, Activation, ReLU,Convolution1D,Convolution1DTranspose,Lambda,Conv1D,Reshape,Dropout\n",
        "from tensorflow.keras.layers import BatchNormalization, Conv1DTranspose, Concatenate\n",
        "from tensorflow.keras.models import Model, Sequential\n",
        "from tensorflow import convert_to_tensor"
      ],
      "metadata": {
        "id": "rQ2Udax0poVM"
      },
      "execution_count": 2,
      "outputs": []
    },
    {
      "cell_type": "code",
      "source": [
        "#Converting classes names into int\n",
        "\n",
        "# Map class names to class numbers\n",
        "class_dict = {\n",
        "    \"Wakes\": 0,\n",
        "    \"Marine Water\": 1,\n",
        "    \"Ship\": 2,\n",
        "    \"Marine Debris\": 3,\n",
        "    \"Shallow Water\": 4,\n",
        "    \"Natural Organic Material\": 5,\n",
        "    \"Turbid Water\": 6,\n",
        "    \"Sparse Sargassum\": 7,\n",
        "    \"Foam\": 8,\n",
        "    \"Mixed Water\": 9,\n",
        "    \"Sediment-Laden Water\": 10,\n",
        "    \"Clouds\": 11,\n",
        "    \"Cloud Shadows\": 12,\n",
        "    \"Dense Sargassum\": 13,\n",
        "    \"Waves\": 14\n",
        "}\n",
        "df_train_classes=df_train.iloc[:,12] #exctracting classes names\n",
        "\n"
      ],
      "metadata": {
        "id": "NgT2WTlbpqdn"
      },
      "execution_count": 3,
      "outputs": []
    },
    {
      "cell_type": "code",
      "source": [
        "#Converting classes names into int\n",
        "#df_train\n",
        "df_train=df_train.iloc[:,0:11] #extracting pixels information\n",
        "\n",
        "# Add a column with the corresponding class numbers to df_train\n",
        "df_train[\"Class_Num\"] = df_train_classes.map(class_dict)\n",
        "# Print the resulting dataframe\n",
        "print(df_train)"
      ],
      "metadata": {
        "id": "PSSz3jt_psK_",
        "colab": {
          "base_uri": "https://localhost:8080/"
        },
        "outputId": "9e62a443-dc16-47ec-91e1-785d3dca8631"
      },
      "execution_count": 4,
      "outputs": [
        {
          "output_type": "stream",
          "name": "stdout",
          "text": [
            "           nm440     nm490     nm560     nm665     nm705     nm740     nm783  \\\n",
            "0       0.102549  0.099589  0.083065  0.060977  0.054536  0.056019  0.058678   \n",
            "1       0.102549  0.102169  0.085815  0.064754  0.054536  0.056019  0.058678   \n",
            "2       0.101787  0.103341  0.085705  0.068320  0.054536  0.055916  0.059498   \n",
            "3       0.101787  0.101699  0.085045  0.063495  0.054328  0.051480  0.052932   \n",
            "4       0.101787  0.100058  0.087575  0.065488  0.054536  0.055916  0.059498   \n",
            "...          ...       ...       ...       ...       ...       ...       ...   \n",
            "429407  0.062488  0.058247  0.045015  0.034692  0.030850  0.030421  0.033822   \n",
            "429408  0.062488  0.058247  0.040610  0.034902  0.030850  0.030421  0.033822   \n",
            "429409  0.062488  0.059892  0.044465  0.034167  0.030746  0.030731  0.033924   \n",
            "429410  0.062488  0.057660  0.043143  0.034692  0.030746  0.030731  0.033924   \n",
            "429411  0.062488  0.059187  0.043033  0.031333  0.029706  0.029595  0.031461   \n",
            "\n",
            "           nm842     nm865    nm1600    nm2200  Class_Num  \n",
            "0       0.049876  0.056887  0.042395  0.032179          0  \n",
            "1       0.052938  0.056887  0.042395  0.032179          0  \n",
            "2       0.053244  0.057091  0.042195  0.032279          0  \n",
            "3       0.051815  0.053328  0.039091  0.029878          0  \n",
            "4       0.052223  0.057091  0.042195  0.032279          0  \n",
            "...          ...       ...       ...       ...        ...  \n",
            "429407  0.028808  0.033241  0.025576  0.019075          1  \n",
            "429408  0.027685  0.033241  0.025576  0.019075          1  \n",
            "429409  0.029522  0.030393  0.025075  0.017574          1  \n",
            "429410  0.028603  0.030393  0.025075  0.017574          1  \n",
            "429411  0.026562  0.030088  0.024274  0.017774          1  \n",
            "\n",
            "[429412 rows x 12 columns]\n"
          ]
        }
      ]
    },
    {
      "cell_type": "code",
      "source": [
        "#df_val\n",
        "\n",
        "df_val_classes=df_val.iloc[:,12] #exctracting classes names\n"
      ],
      "metadata": {
        "id": "sPqkQI9DpuTY"
      },
      "execution_count": 5,
      "outputs": []
    },
    {
      "cell_type": "code",
      "source": [
        "#df_val\n",
        "df_val=df_val.iloc[:,0:11] #extracting pixels information\n",
        "\n",
        "# Add a column with the corresponding class numbers to df_val\n",
        "df_val[\"Class_Num\"] = df_val_classes.map(class_dict)\n",
        "# Print the resulting dataframe\n",
        "print(df_val)"
      ],
      "metadata": {
        "id": "LniZ_cV5px5C",
        "colab": {
          "base_uri": "https://localhost:8080/"
        },
        "outputId": "4fb33a64-9cd1-4268-da31-4a2c3c8b9e8b"
      },
      "execution_count": 6,
      "outputs": [
        {
          "output_type": "stream",
          "name": "stdout",
          "text": [
            "           nm440     nm490     nm560     nm665     nm705     nm740     nm783  \\\n",
            "0       0.055481  0.049914  0.041615  0.035932  0.030630  0.030655  0.034099   \n",
            "1       0.055481  0.056589  0.042165  0.032787  0.029487  0.030140  0.034099   \n",
            "2       0.056749  0.061858  0.052387  0.039915  0.032708  0.033234  0.035740   \n",
            "3       0.055481  0.065840  0.052167  0.036665  0.030526  0.030449  0.032252   \n",
            "4       0.060424  0.064786  0.052717  0.040544  0.034267  0.033028  0.036253   \n",
            "...          ...       ...       ...       ...       ...       ...       ...   \n",
            "213097  0.065147  0.056678  0.040299  0.038716  0.035129  0.036097  0.038700   \n",
            "213098  0.065147  0.054200  0.040630  0.038821  0.035129  0.036097  0.038700   \n",
            "213099  0.065147  0.058448  0.042949  0.041028  0.034609  0.034443  0.037056   \n",
            "213100  0.065147  0.058802  0.043833  0.040397  0.034609  0.034443  0.037056   \n",
            "213101  0.064506  0.058566  0.040851  0.039136  0.032943  0.034960  0.035824   \n",
            "\n",
            "           nm842     nm865    nm1600    nm2200  Class_Num  \n",
            "0       0.029977  0.033055  0.024734  0.017859          1  \n",
            "1       0.029161  0.032649  0.023332  0.016559          1  \n",
            "2       0.031711  0.034682  0.025836  0.017459          0  \n",
            "3       0.030997  0.031835  0.021830  0.015358          0  \n",
            "4       0.031303  0.035597  0.024434  0.016759          0  \n",
            "...          ...       ...       ...       ...        ...  \n",
            "213097  0.034553  0.038309  0.030187  0.024275          1  \n",
            "213098  0.033429  0.038309  0.030187  0.024275          1  \n",
            "213099  0.035165  0.035256  0.029986  0.024175          1  \n",
            "213100  0.036391  0.035256  0.029986  0.024175          1  \n",
            "213101  0.034655  0.035052  0.029486  0.023475          1  \n",
            "\n",
            "[213102 rows x 12 columns]\n"
          ]
        }
      ]
    },
    {
      "cell_type": "code",
      "source": [
        "#df_test\n",
        "\n",
        "df_test_classes=df_test.iloc[:,12] #exctracting classes names\n"
      ],
      "metadata": {
        "id": "ZhxBvtAppylh"
      },
      "execution_count": 7,
      "outputs": []
    },
    {
      "cell_type": "code",
      "source": [
        "#df_test\n",
        "df_test=df_test.iloc[:,0:11] #extracting pixels information\n",
        "\n",
        "# Add a column with the corresponding class numbers to df_train\n",
        "df_test[\"Class_Num\"] = df_test_classes.map(class_dict)\n",
        "# Print the resulting dataframe\n",
        "print(df_test)"
      ],
      "metadata": {
        "id": "JMnXmPHep0UV",
        "colab": {
          "base_uri": "https://localhost:8080/"
        },
        "outputId": "ddd756c9-a1a6-4db5-fa7a-ebaa3213505a"
      },
      "execution_count": 8,
      "outputs": [
        {
          "output_type": "stream",
          "name": "stdout",
          "text": [
            "           nm440     nm490     nm560     nm665     nm705     nm740     nm783  \\\n",
            "0       0.026860  0.023231  0.012851  0.007386  0.005664  0.004713  0.004983   \n",
            "1       0.026860  0.022393  0.012962  0.006331  0.005559  0.005542  0.005703   \n",
            "2       0.026860  0.022393  0.013853  0.006647  0.005559  0.005542  0.005703   \n",
            "3       0.026729  0.021077  0.012294  0.006225  0.004514  0.004506  0.005086   \n",
            "4       0.026729  0.021795  0.012962  0.006858  0.004514  0.004506  0.005086   \n",
            "...          ...       ...       ...       ...       ...       ...       ...   \n",
            "194858  0.058966  0.055173  0.038499  0.029029  0.024716  0.025710  0.028051   \n",
            "194859  0.058966  0.058932  0.043786  0.031758  0.026692  0.025813  0.029797   \n",
            "194860  0.058966  0.055055  0.036626  0.027246  0.026692  0.025813  0.029797   \n",
            "194861  0.051325  0.045773  0.038719  0.035430  0.027004  0.030975  0.033698   \n",
            "194862  0.053363  0.047066  0.031339  0.024727  0.021805  0.020652  0.022200   \n",
            "\n",
            "           nm842     nm865    nm1600    nm2200  Class_Num  \n",
            "0       0.003172  0.004649  0.002069  0.001446          1  \n",
            "1       0.004605  0.003935  0.002169  0.001146          1  \n",
            "2       0.004502  0.003935  0.002169  0.001146          1  \n",
            "3       0.003786  0.003732  0.002370  0.001546          1  \n",
            "4       0.003786  0.003732  0.002370  0.001546          1  \n",
            "...          ...       ...       ...       ...        ...  \n",
            "194858  0.023755  0.026856  0.015622  0.009656          0  \n",
            "194859  0.023143  0.024720  0.014420  0.009556          0  \n",
            "194860  0.022224  0.024720  0.014420  0.009556          0  \n",
            "194861  0.038046  0.032247  0.012818  0.006454          3  \n",
            "194862  0.018652  0.020448  0.012017  0.007955          1  \n",
            "\n",
            "[194863 rows x 12 columns]\n"
          ]
        }
      ]
    },
    {
      "cell_type": "code",
      "source": [
        "#data augmentation\n",
        "#Creating the dataset of cloud masks\n",
        "#trainset\n",
        "  #creation of the trainset of the cloud dataset\n",
        "filenames = glob.glob(\"/content/drive/MyDrive/Colab Notebooks/DL project/data/clouds/train/*.png\")\n",
        "images= [Image.open(fn).convert('L') for fn in filenames]\n",
        "train_clouds_array= np.dstack([np.array(im) for im in images])\n",
        "\n",
        "#validset\n",
        "  #creation of the trainset of the cloud dataset\n",
        "filenames2 = glob.glob(\"/content/drive/MyDrive/Colab Notebooks/DL project/data/clouds/valid/*.png\")\n",
        "images2= [Image.open(fn).convert('L') for fn in filenames2]\n",
        "valid_clouds_array = np.dstack([np.array(im) for im in images2])\n",
        "\n",
        "#testset\n",
        "  #creation of the trainset of the cloud dataset\n",
        "filenames3 = glob.glob(\"/content/drive/MyDrive/Colab Notebooks/DL project/data/clouds/test/*.png\")\n",
        "images3= [Image.open(fn).convert('L') for fn in filenames3]\n",
        "test_clouds_array = np.dstack([np.array(im) for im in images3])\n"
      ],
      "metadata": {
        "id": "UlHc0aqhp15f"
      },
      "execution_count": 9,
      "outputs": []
    },
    {
      "cell_type": "code",
      "source": [
        "#reashape train set\n",
        "train_clouds_array=train_clouds_array.reshape(124416,45)#reshape to have 288*432 lines\n",
        "train_clouds_array=train_clouds_array.astype(int) #make the clouds informations integers\n",
        "train_clouds=np.concatenate((train_clouds_array,np.zeros((304996,45))))# train clouds ready to be concatenate with df_train\n",
        "\n",
        "print(\"train_clouds:\",train_clouds.shape)\n"
      ],
      "metadata": {
        "id": "FKC0iE1tp45O",
        "colab": {
          "base_uri": "https://localhost:8080/"
        },
        "outputId": "bd5a65fd-d448-464c-8ab7-0e9c841e36b7"
      },
      "execution_count": 10,
      "outputs": [
        {
          "output_type": "stream",
          "name": "stdout",
          "text": [
            "train_clouds: (429412, 45)\n"
          ]
        }
      ]
    },
    {
      "cell_type": "code",
      "source": [
        "#Creation of the train dataset \n",
        "\n",
        "df_train_labels= df_train.iloc[:, 11].values.reshape((-1, 1))  # reshape to column vector\n",
        "  #train set\n",
        "train=np.concatenate((df_train.iloc[:,0:11], train_clouds),axis=1)\n",
        "train=np.concatenate((train,df_train_labels),axis=1)\n",
        "print(\"train:\",train.shape)\n",
        "print(train)"
      ],
      "metadata": {
        "id": "hl_U5nK8p6qm",
        "colab": {
          "base_uri": "https://localhost:8080/"
        },
        "outputId": "45215b8f-ff94-4aed-e7db-83b4b5ff31e7"
      },
      "execution_count": 11,
      "outputs": [
        {
          "output_type": "stream",
          "name": "stdout",
          "text": [
            "train: (429412, 57)\n",
            "[[1.02548726e-01 9.95887294e-02 8.30654576e-02 ... 2.55000000e+02\n",
            "  2.55000000e+02 0.00000000e+00]\n",
            " [1.02548726e-01 1.02168523e-01 8.58148932e-02 ... 2.55000000e+02\n",
            "  2.55000000e+02 0.00000000e+00]\n",
            " [1.01787083e-01 1.03341155e-01 8.57049152e-02 ... 2.55000000e+02\n",
            "  2.55000000e+02 0.00000000e+00]\n",
            " ...\n",
            " [6.24879897e-02 5.98922931e-02 4.44645360e-02 ... 0.00000000e+00\n",
            "  0.00000000e+00 1.00000000e+00]\n",
            " [6.24879897e-02 5.76597191e-02 4.31431532e-02 ... 0.00000000e+00\n",
            "  0.00000000e+00 1.00000000e+00]\n",
            " [6.24879897e-02 5.91872670e-02 4.30330336e-02 ... 0.00000000e+00\n",
            "  0.00000000e+00 1.00000000e+00]]\n"
          ]
        }
      ]
    },
    {
      "cell_type": "code",
      "source": [
        "#reshape test set\n",
        "\n",
        "test_clouds_array=test_clouds_array.reshape(124416,27)#reshape to have 288*432 lines\n",
        "test_clouds_array=test_clouds_array.astype(int) #make the clouds informations integers\n",
        "test_clouds=np.concatenate((test_clouds_array,np.zeros((70447,27))))\n",
        "\n",
        "print(\"test_clouds:\",test_clouds.shape)\n",
        "\n"
      ],
      "metadata": {
        "id": "uRR5lSYfp7Kq",
        "colab": {
          "base_uri": "https://localhost:8080/"
        },
        "outputId": "82bd505a-3ec1-4844-bf4f-8d5b7e87b520"
      },
      "execution_count": 12,
      "outputs": [
        {
          "output_type": "stream",
          "name": "stdout",
          "text": [
            "test_clouds: (194863, 27)\n"
          ]
        }
      ]
    },
    {
      "cell_type": "code",
      "source": [
        "#Creation of the test dataset \n",
        "\n",
        "df_test_labels= df_test.iloc[:, 11].values.reshape((-1, 1))  # reshape to column vector\n",
        "test=np.concatenate((df_test.iloc[:,0:11], test_clouds),axis=1)\n",
        "test=np.concatenate((test,df_test_labels),axis=1)\n",
        "print(\"test:\",test.shape)\n",
        "print(test)"
      ],
      "metadata": {
        "id": "f-4VlBjap-2S",
        "colab": {
          "base_uri": "https://localhost:8080/"
        },
        "outputId": "d0b79e7a-6277-4278-a366-8da6fa867c8a"
      },
      "execution_count": 13,
      "outputs": [
        {
          "output_type": "stream",
          "name": "stdout",
          "text": [
            "test: (194863, 39)\n",
            "[[2.68599205e-02 2.32307259e-02 1.28511488e-02 ... 2.55000000e+02\n",
            "  2.55000000e+02 1.00000000e+00]\n",
            " [2.68599205e-02 2.23931037e-02 1.29624968e-02 ... 2.55000000e+02\n",
            "  2.55000000e+02 1.00000000e+00]\n",
            " [2.68599205e-02 2.23931037e-02 1.38533069e-02 ... 2.55000000e+02\n",
            "  2.55000000e+02 1.00000000e+00]\n",
            " ...\n",
            " [5.89660630e-02 5.50550669e-02 3.66262123e-02 ... 0.00000000e+00\n",
            "  0.00000000e+00 0.00000000e+00]\n",
            " [5.13252988e-02 4.57734019e-02 3.87189351e-02 ... 0.00000000e+00\n",
            "  0.00000000e+00 3.00000000e+00]\n",
            " [5.33628315e-02 4.70657833e-02 3.13393362e-02 ... 0.00000000e+00\n",
            "  0.00000000e+00 1.00000000e+00]]\n"
          ]
        }
      ]
    },
    {
      "cell_type": "code",
      "source": [
        " #reshape valid set\n",
        "valid_clouds_array=valid_clouds_array.reshape(124416,23)#reshape to have 288*432 lines\n",
        "valid_clouds_array=valid_clouds_array.astype(int) #make the clouds informations integers\n",
        "valid_clouds=np.concatenate((valid_clouds_array,np.zeros((88686,23))))\n",
        "\n",
        "print(\"valid_clouds:\",valid_clouds.shape)\n"
      ],
      "metadata": {
        "id": "TYEFp9z2qAqY",
        "colab": {
          "base_uri": "https://localhost:8080/"
        },
        "outputId": "5bc97a76-215a-4ac7-bdfe-e9d65d30e349"
      },
      "execution_count": 14,
      "outputs": [
        {
          "output_type": "stream",
          "name": "stdout",
          "text": [
            "valid_clouds: (213102, 23)\n"
          ]
        }
      ]
    },
    {
      "cell_type": "code",
      "source": [
        "#Creation of the valid dataset \n",
        "df_val_labels= df_val.iloc[:, 11].values.reshape((-1, 1))  # reshape to column vector\n",
        "valid=np.concatenate((df_val.iloc[:,0:11],valid_clouds),axis=1)\n",
        "valid=np.concatenate((valid,df_val_labels),axis=1)\n",
        "print(\"valid:\",valid.shape)\n",
        "print(valid)"
      ],
      "metadata": {
        "id": "uwwz8wN6qBXZ",
        "colab": {
          "base_uri": "https://localhost:8080/"
        },
        "outputId": "d1daf0de-953b-404c-e438-ce71a3ccc035"
      },
      "execution_count": 15,
      "outputs": [
        {
          "output_type": "stream",
          "name": "stdout",
          "text": [
            "valid: (213102, 35)\n",
            "[[5.54813668e-02 4.99140620e-02 4.16151099e-02 ... 2.55000000e+02\n",
            "  2.55000000e+02 1.00000000e+00]\n",
            " [5.54813668e-02 5.65888174e-02 4.21647131e-02 ... 2.55000000e+02\n",
            "  2.55000000e+02 1.00000000e+00]\n",
            " [5.67486621e-02 6.18583634e-02 5.23872860e-02 ... 2.55000000e+02\n",
            "  2.55000000e+02 0.00000000e+00]\n",
            " ...\n",
            " [6.51467443e-02 5.84480278e-02 4.29493301e-02 ... 0.00000000e+00\n",
            "  0.00000000e+00 1.00000000e+00]\n",
            " [6.51467443e-02 5.88020198e-02 4.38328125e-02 ... 0.00000000e+00\n",
            "  0.00000000e+00 1.00000000e+00]\n",
            " [6.45059496e-02 5.85660301e-02 4.08510752e-02 ... 0.00000000e+00\n",
            "  0.00000000e+00 1.00000000e+00]]\n"
          ]
        }
      ]
    },
    {
      "cell_type": "code",
      "source": [
        "train_data = train[:, :-1] # extract input features from train\n",
        "train_labels = train[:, -1] # extract target labels from train\n",
        "train_labels=np.asarray(train_labels).reshape(429412,1)\n",
        "print(train_data.shape)\n",
        "print(train_labels.shape)\n",
        "\n",
        "val_data = valid[:, :-1] # extract input features from valid\n",
        "val_labels = valid[:, -1] # extract target labels from valid\n",
        "val_labels=np.asarray(val_labels).reshape(213102,1)\n",
        "print(val_data.shape)\n",
        "print(val_labels.shape)\n",
        "\n",
        "test_data = test[:, :-1] # extract input features from test\n",
        "test_labels = test[:, -1] # extract target labels from test\n",
        "test_labels=np.asarray(test_labels).reshape(194863,1)\n",
        "print(test_data)\n",
        "print(test_data.shape)\n",
        "print(test_labels.shape)\n",
        "\n"
      ],
      "metadata": {
        "id": "OfdfbU9mqC71",
        "colab": {
          "base_uri": "https://localhost:8080/"
        },
        "outputId": "c5ad3c31-a5b8-4964-a9d2-cc1d1c9f99ce"
      },
      "execution_count": 18,
      "outputs": [
        {
          "output_type": "stream",
          "name": "stdout",
          "text": [
            "(429412, 56)\n",
            "(429412, 1)\n",
            "(213102, 34)\n",
            "(213102, 1)\n",
            "[[2.68599205e-02 2.32307259e-02 1.28511488e-02 ... 2.55000000e+02\n",
            "  2.55000000e+02 2.55000000e+02]\n",
            " [2.68599205e-02 2.23931037e-02 1.29624968e-02 ... 2.55000000e+02\n",
            "  2.55000000e+02 2.55000000e+02]\n",
            " [2.68599205e-02 2.23931037e-02 1.38533069e-02 ... 2.55000000e+02\n",
            "  2.55000000e+02 2.55000000e+02]\n",
            " ...\n",
            " [5.89660630e-02 5.50550669e-02 3.66262123e-02 ... 0.00000000e+00\n",
            "  0.00000000e+00 0.00000000e+00]\n",
            " [5.13252988e-02 4.57734019e-02 3.87189351e-02 ... 0.00000000e+00\n",
            "  0.00000000e+00 0.00000000e+00]\n",
            " [5.33628315e-02 4.70657833e-02 3.13393362e-02 ... 0.00000000e+00\n",
            "  0.00000000e+00 0.00000000e+00]]\n",
            "(194863, 38)\n",
            "(194863, 1)\n"
          ]
        }
      ]
    },
    {
      "cell_type": "code",
      "source": [
        "#PC of train data\n",
        "pca = PCA(n_components=1)\n",
        "pca_result = pca.fit_transform(train_data)\n",
        "\n",
        "\n",
        "print('Explained variation per principal component: {}'.format(pca.explained_variance_ratio_))"
      ],
      "metadata": {
        "id": "kN2ocOzBqGwl",
        "colab": {
          "base_uri": "https://localhost:8080/"
        },
        "outputId": "6a3df178-43bb-459f-f078-a2aa86abf593"
      },
      "execution_count": 20,
      "outputs": [
        {
          "output_type": "stream",
          "name": "stdout",
          "text": [
            "Explained variation per principal component: [0.99968808]\n"
          ]
        }
      ]
    },
    {
      "cell_type": "code",
      "source": [
        "#PC of test data\n",
        "pca_test = PCA(n_components=1)\n",
        "pca_test_result = pca_test.fit_transform(test_data)\n",
        "\n",
        "\n",
        "print('Explained variation per principal component: {}'.format(pca_test.explained_variance_ratio_))"
      ],
      "metadata": {
        "id": "X8QyXXGIqI0d",
        "colab": {
          "base_uri": "https://localhost:8080/"
        },
        "outputId": "c5306f8e-9177-4e6b-f9ae-a83653720f90"
      },
      "execution_count": 21,
      "outputs": [
        {
          "output_type": "stream",
          "name": "stdout",
          "text": [
            "Explained variation per principal component: [0.99941893]\n"
          ]
        }
      ]
    },
    {
      "cell_type": "code",
      "source": [
        "#PC of val data\n",
        "pca_val = PCA(n_components=1)\n",
        "pca_val_result = pca_val.fit_transform(val_data)\n",
        "\n",
        "print('Explained variation per principal component: {}'.format(pca_val.explained_variance_ratio_))"
      ],
      "metadata": {
        "id": "oWYJEfIkqLoQ",
        "colab": {
          "base_uri": "https://localhost:8080/"
        },
        "outputId": "08c81a27-b0e0-418d-e2f5-2d9d5cafdcd9"
      },
      "execution_count": 22,
      "outputs": [
        {
          "output_type": "stream",
          "name": "stdout",
          "text": [
            "Explained variation per principal component: [0.99942456]\n"
          ]
        }
      ]
    },
    {
      "cell_type": "code",
      "source": [
        "print(pca_result.shape)"
      ],
      "metadata": {
        "id": "ph_RERPPqNRi",
        "colab": {
          "base_uri": "https://localhost:8080/"
        },
        "outputId": "99b1e87a-4f0b-4cf4-8922-1afa0b9a1a54"
      },
      "execution_count": 23,
      "outputs": [
        {
          "output_type": "stream",
          "name": "stdout",
          "text": [
            "(429412, 1)\n"
          ]
        }
      ]
    },
    {
      "cell_type": "code",
      "source": [
        "from sklearn.preprocessing import MinMaxScaler\n",
        "#normalization\n",
        "# Normalize the input data\n",
        "scaler = MinMaxScaler()\n",
        "pca_result_normalized = scaler.fit_transform(pca_result)\n",
        "\n",
        "# Normalize the test data using the same scaler\n",
        "pca_test_result_normalized = scaler.transform(pca_test_result)"
      ],
      "metadata": {
        "id": "O0lKaf4puCGB"
      },
      "execution_count": 24,
      "outputs": []
    },
    {
      "cell_type": "code",
      "source": [
        "#Fully connected NN\n",
        "from tensorflow.keras.layers import Dense\n",
        "\n",
        "model=Sequential()\n",
        "model.add(Dense(1024,input_shape=(429412, 1),activation=\"relu\"))\n",
        "model.add(Dense(500,activation=\"relu\"))\n",
        "model.add(Dense(300,activation=\"relu\"))\n",
        "model.add(Dense(256,activation=\"relu\"))\n",
        "model.add(Dense(150,activation=\"relu\"))\n",
        "model.add(Dense(100,activation=\"relu\"))\n",
        "model.add(Dense(56,activation=\"relu\"))\n",
        "model.add(Dense(15,activation=\"softmax\"))\n",
        "\n",
        "model.compile(loss=\"sparse_categorical_crossentropy\",optimizer=\"adam\",metrics=\"accuracy\")#explain why this loss fctn"
      ],
      "metadata": {
        "id": "2fjk3vxbqYDx"
      },
      "execution_count": 26,
      "outputs": []
    },
    {
      "cell_type": "code",
      "source": [
        "#train the FCNN\n",
        "import matplotlib.pyplot as plt\n",
        "\n",
        "\n",
        "history=model.fit(pca_result_normalized,train_labels,batch_size=32,epochs=3,validation_data=(pca_val_result,val_labels))\n",
        "\n",
        "loss,acc=model.evaluate(pca_test_result_normalized,test_labels)\n",
        "\n",
        "print(\"loss : \", loss)\n",
        "print(\"acc : \", acc)\n",
        "\n",
        "plt.plot(history.history['accuracy'])\n",
        "plt.plot(history.history['val_accuracy'])\n",
        "plt.title('model accuracy')\n",
        "plt.ylabel('accuracy')\n",
        "plt.xlabel('epoch')\n",
        "plt.legend(['train', 'validation'], loc='upper right')\n",
        "plt.show()\n",
        "\n",
        "plt.plot(history.history['loss'])\n",
        "plt.plot(history.history['val_loss'])\n",
        "plt.title('model loss')\n",
        "plt.ylabel('loss')\n",
        "plt.xlabel('epoch')\n",
        "plt.legend(['train', 'validation'], loc='upper right')\n",
        "\n",
        "plt.show()"
      ],
      "metadata": {
        "id": "NAsXHSqGqZzG",
        "colab": {
          "base_uri": "https://localhost:8080/",
          "height": 739
        },
        "outputId": "9d86cbd1-cd2c-4055-a770-96f72fe33851"
      },
      "execution_count": 28,
      "outputs": [
        {
          "output_type": "stream",
          "name": "stdout",
          "text": [
            "Epoch 1/3\n",
            "13420/13420 [==============================] - 1452s 108ms/step - loss: 1.6170 - accuracy: 0.4147 - val_loss: 330.2466 - val_accuracy: 0.1087\n",
            "Epoch 2/3\n",
            "13420/13420 [==============================] - 1376s 102ms/step - loss: 1.6074 - accuracy: 0.4148 - val_loss: 230.9720 - val_accuracy: 0.2590\n",
            "Epoch 3/3\n",
            "13420/13420 [==============================] - 1418s 106ms/step - loss: 1.6052 - accuracy: 0.4149 - val_loss: 523.4646 - val_accuracy: 0.2590\n",
            "6090/6090 [==============================] - 154s 25ms/step - loss: 1.6175 - accuracy: 0.4774\n",
            "loss :  1.6174639463424683\n",
            "acc :  0.4774482548236847\n"
          ]
        },
        {
          "output_type": "display_data",
          "data": {
            "text/plain": [
              "<Figure size 432x288 with 1 Axes>"
            ],
            "image/png": "[encoded data removed]"
          },
          "metadata": {
            "needs_background": "light"
          }
        },
        {
          "output_type": "display_data",
          "data": {
            "text/plain": [
              "<Figure size 432x288 with 1 Axes>"
            ],
            "image/png": "[encoded data removed]"
          },
          "metadata": {
            "needs_background": "light"
          }
        }
      ]
    }
  ]
}